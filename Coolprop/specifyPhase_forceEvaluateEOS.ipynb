{
 "cells": [
  {
   "cell_type": "code",
   "execution_count": 1,
   "metadata": {},
   "outputs": [],
   "source": [
    "import CoolProp as CP\n",
    "from CoolProp.CoolProp import PropsSI\n",
    "\n",
    "# Set FluidName\n",
    "FluidName = 'Propane'\n",
    "BackEnd = 'REFPROP'\n",
    "myFluid = BackEnd + '::' + FluidName \n",
    "\n",
    "\n",
    "# Constants, triple and critical data\n",
    "R = PropsSI('GAS_CONSTANT',myFluid)\n",
    "MM = PropsSI('MOLAR_MASS',myFluid)\n",
    "Rs = R/MM\n",
    "\n",
    "T_crt = PropsSI('T_CRITICAL',myFluid)\n",
    "T_trp = PropsSI('T_TRIPLE',myFluid)\n",
    "T_max = PropsSI('T_MAX',myFluid)\n",
    "\n",
    "p_crt = PropsSI('P_CRITICAL',myFluid)\n",
    "p_trp = PropsSI('P_TRIPLE',myFluid)\n",
    "p_max = PropsSI('P_MAX',myFluid)"
   ]
  },
  {
   "cell_type": "code",
   "execution_count": 2,
   "metadata": {},
   "outputs": [
    {
     "name": "stdout",
     "output_type": "stream",
     "text": [
      "299476.64692120993\n",
      "299806.1627152355\n",
      "299454.4717715055\n",
      "\n",
      "2286744114.221322\n",
      "2288229220.9821606\n"
     ]
    }
   ],
   "source": [
    "AS = CP.AbstractState(BackEnd, FluidName)\n",
    "myT = 0.7*T_crt\n",
    "\n",
    "# sat values\n",
    "AS.unspecify_phase()\n",
    "AS.update(CP.QT_INPUTS, 0, myT)\n",
    "p_sat = AS.p()\n",
    "d_liq = AS.rhomass()\n",
    "AS.update(CP.QT_INPUTS, 1, myT)\n",
    "d_vap = AS.rhomass()\n",
    "print(p_sat)\n",
    "Delta_d = d_liq-d_vap\n",
    "\n",
    "# evaluate eos inside two-phase\n",
    "AS.specify_phase(CP.iphase_liquid)\n",
    "AS.update(CP.DmassT_INPUTS, d_liq+Delta_d/1000000, myT)\n",
    "print(AS.p())\n",
    "AS.update(CP.DmassT_INPUTS, d_vap-Delta_d/1000000, myT)\n",
    "print(AS.p())\n",
    "print()\n",
    "\n",
    "# melting line\n",
    "p_mlt = AS.melting_line(CP.iP, CP.iT, myT)\n",
    "AS.update(CP.PT_INPUTS, p_mlt, myT)\n",
    "d_mlt = AS.rhomass()\n",
    "print(p_mlt)\n",
    "\n",
    "# evaluate eos beyond melting line\n",
    "AS.specify_phase(CP.iphase_liquid)\n",
    "AS.update(CP.DmassT_INPUTS, 1.0001*d_mlt, myT)\n",
    "print(AS.p())"
   ]
  },
  {
   "cell_type": "code",
   "execution_count": null,
   "metadata": {},
   "outputs": [],
   "source": []
  }
 ],
 "metadata": {
  "kernelspec": {
   "display_name": "Python 3",
   "language": "python",
   "name": "python3"
  },
  "language_info": {
   "codemirror_mode": {
    "name": "ipython",
    "version": 3
   },
   "file_extension": ".py",
   "mimetype": "text/x-python",
   "name": "python",
   "nbconvert_exporter": "python",
   "pygments_lexer": "ipython3",
   "version": "3.6.8"
  }
 },
 "nbformat": 4,
 "nbformat_minor": 2
}
