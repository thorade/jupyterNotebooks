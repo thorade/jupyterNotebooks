{
 "cells": [
  {
   "cell_type": "code",
   "execution_count": 2,
   "metadata": {},
   "outputs": [
    {
     "name": "stdout",
     "output_type": "stream",
     "text": [
      "6.1.1dev\n",
      "6d076f9a634cd4b0991d075bb6aa0c0aa29ed8dd\n"
     ]
    }
   ],
   "source": [
    "import CoolProp as CP\n",
    "print( CP.__version__)\n",
    "print(CP.__gitrevision__)"
   ]
  },
  {
   "cell_type": "code",
   "execution_count": 3,
   "metadata": {},
   "outputs": [
    {
     "name": "stdout",
     "output_type": "stream",
     "text": [
      "1.6939276653849265\n"
     ]
    }
   ],
   "source": [
    "import CoolProp.CoolProp as CP\n",
    "fluid = 'Water'\n",
    "pressure_at_critical_point = CP.PropsSI(fluid,'pcrit')\n",
    "# Massic volume (in m^3/kg) is the inverse of density\n",
    "# (or volumic mass in kg/m^3). Let's compute the massic volume of liquid\n",
    "# at 1bar (1e5 Pa) of pressure\n",
    "vL = 1/CP.PropsSI('D','P',1e5,'Q',0,fluid)\n",
    "# Same for saturated vapor\n",
    "vG = 1/CP.PropsSI('D','P',1e5,'Q',1,fluid)\n",
    "print(vG)"
   ]
  },
  {
   "cell_type": "code",
   "execution_count": 4,
   "metadata": {},
   "outputs": [
    {
     "name": "stdout",
     "output_type": "stream",
     "text": [
      "deviation_T = 1.1368683772161603e-13\n",
      "deviation_p = 2.9103830456733704e-11\n"
     ]
    }
   ],
   "source": [
    "import CoolProp.CoolProp as CP\n",
    "fluid = 'Nitrogen'\n",
    "temperature = 298.15\n",
    "pressure = 101325\n",
    "\n",
    "# forward\n",
    "energy_PT = CP.PropsSI('U', 'T', temperature, 'P', pressure, fluid)\n",
    "density_PT = CP.PropsSI('D', 'T', temperature, 'P', pressure, fluid)\n",
    "\n",
    "# backwards\n",
    "temperature_DU = CP.PropsSI('T', 'U', energy_PT, 'D', density_PT, fluid)\n",
    "pressure_DU = CP.PropsSI('P', 'U', energy_PT, 'D', density_PT, fluid)\n",
    "\n",
    "# deviation\n",
    "deviation_T = temperature - temperature_DU\n",
    "print(\"deviation_T =\", deviation_T)\n",
    "deviation_p = pressure-pressure_DU\n",
    "print(\"deviation_p =\", deviation_p)"
   ]
  },
  {
   "cell_type": "code",
   "execution_count": 5,
   "metadata": {},
   "outputs": [
    {
     "name": "stdout",
     "output_type": "stream",
     "text": [
      "ds_dT_d = 4.841524287458548\n",
      "ds_dT_p = 5.326404700625903\n",
      "dh_dT_p = 2130.561880250361\n"
     ]
    }
   ],
   "source": [
    "import CoolProp as CP\n",
    "FluidName = 'Propane'\n",
    "myT = 400\n",
    "myP = 101325\n",
    "\n",
    "ds_dT_d = CP.CoolProp.PropsSI('d(Smass)/d(T)|D','P',myP,'T',myT,FluidName)\n",
    "print(\"ds_dT_d = \" + str(ds_dT_d))\n",
    "\n",
    "ds_dT_p = CP.CoolProp.PropsSI('d(Smass)/d(T)|P','P',myP,'T',myT,FluidName)\n",
    "print(\"ds_dT_p = \" + str(ds_dT_p))\n",
    "\n",
    "dh_dT_p = CP.CoolProp.PropsSI('d(Hmass)/d(T)|P','P',myP,'T',myT,FluidName)\n",
    "print(\"dh_dT_p = \" + str(dh_dT_p))"
   ]
  },
  {
   "cell_type": "code",
   "execution_count": 6,
   "metadata": {},
   "outputs": [
    {
     "name": "stdout",
     "output_type": "stream",
     "text": [
      "d_sat_liq = 408.4800115894465\n",
      "ds_dT_d = 5.431860345612432\n",
      "ds_dT_p = 9.593867158313037\n",
      "dh_dT_p = 3837.5468633252153\n"
     ]
    }
   ],
   "source": [
    "import CoolProp as CP\n",
    "FluidName = 'nButane'\n",
    "T_sat = 400\n",
    "d_sat_liq = CP.CoolProp.PropsSI('D','T',T_sat,'Q',0,FluidName)\n",
    "print(\"d_sat_liq = \" + str(d_sat_liq))\n",
    "\n",
    "ds_dT_d = CP.CoolProp.PropsSI('d(Smass)/d(T)|D','D',d_sat_liq,'T',T_sat,FluidName)\n",
    "print(\"ds_dT_d = \" + str(ds_dT_d))\n",
    "\n",
    "ds_dT_p = CP.CoolProp.PropsSI('d(Smass)/d(T)|P','D',d_sat_liq,'T',T_sat,FluidName)\n",
    "print(\"ds_dT_p = \" + str(ds_dT_p))\n",
    "\n",
    "dh_dT_p = CP.CoolProp.PropsSI('d(Hmass)/d(T)|P','D',d_sat_liq,'T',T_sat,FluidName)\n",
    "print(\"dh_dT_p = \" + str(dh_dT_p))"
   ]
  },
  {
   "cell_type": "code",
   "execution_count": 7,
   "metadata": {},
   "outputs": [
    {
     "name": "stdout",
     "output_type": "stream",
     "text": [
      "5.019490545141546\n",
      "-0.0017331936439279076\n"
     ]
    }
   ],
   "source": [
    "import CoolProp\n",
    "HEOS = CoolProp.AbstractState(\"HEOS\", \"nButane\")\n",
    "HEOS.update(CoolProp.PT_INPUTS, 101325, 400)\n",
    "\n",
    "ds_dT_d = HEOS.first_partial_deriv(CoolProp.iSmass, CoolProp.iT, CoolProp.iDmass)\n",
    "print(ds_dT_d)\n",
    "\n",
    "d2s_dT2_d = HEOS.second_partial_deriv(CoolProp.iSmass, CoolProp.iT, CoolProp.iDmass, CoolProp.iT, CoolProp.iDmass)\n",
    "print(d2s_dT2_d)"
   ]
  },
  {
   "cell_type": "code",
   "execution_count": 8,
   "metadata": {},
   "outputs": [
    {
     "name": "stdout",
     "output_type": "stream",
     "text": [
      "[ 5.33923376  5.33696739  5.33605744  5.33640996  5.33795486  5.34063645\n",
      "  5.34437985  5.34903961  5.35436987  5.36007103  5.36593346  5.37202447\n",
      "  5.37881318  5.38714907  5.39809519  5.41270369  5.4318528   5.45623475\n",
      "  5.48653205  5.52380196]\n"
     ]
    }
   ],
   "source": [
    "import numpy as np\n",
    "import CoolProp\n",
    "T_sat = np.linspace(300, 400, num=20)\n",
    "HEOS = CoolProp.AbstractState(\"HEOS\", \"nButane\")\n",
    "ds_dT_d = np.empty(len(T_sat))\n",
    "\n",
    "for index in range(0,len(T_sat)):\n",
    "    HEOS.update(CoolProp.QT_INPUTS, 1, T_sat[index])\n",
    "    ds_dT_d[index] = HEOS.first_partial_deriv(CoolProp.iSmass, CoolProp.iT, CoolProp.iDmass)\n",
    "    \n",
    "print(ds_dT_d)"
   ]
  },
  {
   "cell_type": "code",
   "execution_count": null,
   "metadata": {},
   "outputs": [],
   "source": []
  }
 ],
 "metadata": {
  "kernelspec": {
   "display_name": "Python 3",
   "language": "python",
   "name": "python3"
  },
  "language_info": {
   "codemirror_mode": {
    "name": "ipython",
    "version": 3
   },
   "file_extension": ".py",
   "mimetype": "text/x-python",
   "name": "python",
   "nbconvert_exporter": "python",
   "pygments_lexer": "ipython3",
   "version": "3.6.1"
  }
 },
 "nbformat": 4,
 "nbformat_minor": 1
}
