{
 "cells": [
  {
   "cell_type": "code",
   "execution_count": 1,
   "metadata": {},
   "outputs": [
    {
     "name": "stdout",
     "output_type": "stream",
     "text": [
      "6.1.1dev\n",
      "6d076f9a634cd4b0991d075bb6aa0c0aa29ed8dd\n"
     ]
    }
   ],
   "source": [
    "############################################################\n",
    "# Plots of meta-stable Maxwell loops\n",
    "# Inspired by https://doi.org/10.1134/S0036024406040030\n",
    "# Math tricks taken from: http://math.stackexchange.com/q/416823/92706\n",
    "# Plot also shown on page 79 of https://doi.org/10.15480/882.1207\n",
    "############################################################\n",
    "\n",
    "# load some bits and pieces\n",
    "import numpy as np\n",
    "\n",
    "import matplotlib\n",
    "import matplotlib.pyplot as plt\n",
    "import matplotlib.rcsetup as rcsetup\n",
    "\n",
    "import CoolProp as CP\n",
    "from CoolProp.CoolProp import PropsSI\n",
    "\n",
    "# Check: CoolProp version\n",
    "print(CP.__version__)\n",
    "print(CP.__gitrevision__)\n",
    "#print(rcsetup.all_backends)\n",
    "\n",
    "# Constants\n",
    "eps = 1e-3\n",
    "kilo = 1e3\n",
    "Mega = 1e6\n",
    "golden = (1 + 5 ** 0.5) / 2\n",
    "width = 12.5"
   ]
  },
  {
   "cell_type": "code",
   "execution_count": 6,
   "metadata": {},
   "outputs": [
    {
     "name": "stdout",
     "output_type": "stream",
     "text": [
      "R = 8.31451\n",
      "MM = 0.0440098\n",
      "Rs = 188.92405782348476\n",
      "T_crt = 304.1282\n",
      "T_trp = 216.592\n",
      "p_crt = 7377300.0\n",
      "p_trp = 517964.34344772575\n"
     ]
    }
   ],
   "source": [
    "# Calculation of the coefficients for the metastable region interpolation happens in this cell\n",
    "\n",
    "# Set FluidName\n",
    "FluidName = 'CO2'\n",
    "\n",
    "# Constants, triple and critical data\n",
    "R = PropsSI('GAS_CONSTANT',FluidName)\n",
    "MM = PropsSI('MOLAR_MASS',FluidName)\n",
    "Rs = R/MM\n",
    "T_crt = PropsSI('T_CRITICAL',FluidName)\n",
    "T_trp = PropsSI('T_TRIPLE',FluidName)\n",
    "T_max = PropsSI('T_MAX',FluidName)\n",
    "p_crt = PropsSI('P_CRITICAL',FluidName)\n",
    "p_trp = PropsSI('P_TRIPLE',FluidName)\n",
    "p_max = PropsSI('P_MAX',FluidName)\n",
    "d_crt = PropsSI('RHOMASS_CRITICAL',FluidName)\n",
    "v_crt = 1/d_crt\n",
    "d_trp_liq = PropsSI('D','T',T_trp,'Q',0,FluidName)\n",
    "d_trp_vap = PropsSI('D','T',T_trp,'Q',1,FluidName)\n",
    "print(\"R = \" + str(R))\n",
    "print(\"MM = \" + str(MM))\n",
    "print(\"Rs = \" + str(Rs))\n",
    "print(\"T_crt = \" + str(T_crt))\n",
    "print(\"T_trp = \" + str(T_trp))\n",
    "print(\"p_crt = \" + str(p_crt))\n",
    "print(\"p_trp = \" + str(p_trp))"
   ]
  },
  {
   "cell_type": "code",
   "execution_count": 22,
   "metadata": {
    "collapsed": true
   },
   "outputs": [],
   "source": [
    "nPoints = 1000\n",
    "\n",
    "p_ideal = p_trp+eps\n",
    "T = np.linspace(T_trp+5, T_max, num=nPoints)\n",
    "cp0s = np.empty(nPoints)\n",
    "H0s = np.empty(nPoints)\n",
    "\n",
    "AS = CP.AbstractState(\"HEOS\", FluidName)\n",
    "for idx in range(0,nPoints):\n",
    "    # update states\n",
    "    AS.update(CP.PT_INPUTS, p_ideal, T[idx]) \n",
    "    cp0s[idx] = AS.cp0mass()\n",
    "    H0s[idx] = AS.hmass()"
   ]
  },
  {
   "cell_type": "code",
   "execution_count": 18,
   "metadata": {},
   "outputs": [
    {
     "data": {
      "image/png": "[encoded data removed]",
      "text/plain": [
       "<matplotlib.figure.Figure at 0x157b2175c50>"
      ]
     },
     "metadata": {},
     "output_type": "display_data"
    }
   ],
   "source": [
    "plt.plot(T, cp0s, color='red')\n",
    "plt.show()"
   ]
  },
  {
   "cell_type": "code",
   "execution_count": 47,
   "metadata": {
    "collapsed": true
   },
   "outputs": [],
   "source": [
    "# https://math.stackexchange.com/q/1593871/92706\n",
    "# https://scholar.google.com/scholar_lookup?doi=10.1016/0378-3812%2881%2985002-9\n",
    "\n",
    "# coeffs for Carbondioxide\n",
    "A = -7460.81\n",
    "B = 7.54056\n",
    "C = 7.51625\n",
    "D = 1442.70\n",
    "E = 5.38023\n",
    "F = 647.502\n",
    "G = 6.25230\n",
    "\n",
    "def coth(x):\n",
    "    import numpy as np\n",
    "    return np.cosh(x)/np.sinh(x)\n",
    "\n",
    "def arccoth(x):\n",
    "    import numpy as np\n",
    "    return np.arctanh(1/x)\n",
    "\n",
    "# equation 12 from the paper\n",
    "HT0 = B*T + C*T*(D/T)*coth(D/T) + E*T*(F/T)*np.tanh(F/T) + A\n",
    "\n",
    "# T cancels out\n",
    "CD = C*D\n",
    "EF = E*F\n",
    "HT1 = B*T + CD*coth(D/T) + EF*np.tanh(F/T) + A\n",
    "\n",
    "# use inverse temperature\n",
    "Tinv = 1/T\n",
    "HT2 = B/Tinv + C*D*coth(D*Tinv) + E*F*np.tanh(F*Tinv) + A"
   ]
  },
  {
   "cell_type": "code",
   "execution_count": 48,
   "metadata": {},
   "outputs": [
    {
     "data": {
      "image/png": "[encoded data removed]",
      "text/plain": [
       "<matplotlib.figure.Figure at 0x157b24abf28>"
      ]
     },
     "metadata": {},
     "output_type": "display_data"
    }
   ],
   "source": [
    "# plot all three variants HT0, HT1 and HT2 to be sure they are identical\n",
    "# plt.plot(T, HT0, color='red')\n",
    "plt.plot(T, HT2, color='blue', linestyle='-.')\n",
    "plt.show()"
   ]
  },
  {
   "cell_type": "code",
   "execution_count": 49,
   "metadata": {},
   "outputs": [
    {
     "name": "stderr",
     "output_type": "stream",
     "text": [
      "C:\\Users\\mthorade\\Anaconda3\\lib\\site-packages\\ipykernel_launcher.py:17: RuntimeWarning: invalid value encountered in arctanh\n",
      "C:\\Users\\mthorade\\Anaconda3\\lib\\site-packages\\ipykernel_launcher.py:2: RuntimeWarning: invalid value encountered in arctanh\n",
      "  \n"
     ]
    }
   ],
   "source": [
    "H = HT0\n",
    "TinvH = H/B + 1/D*arccoth(H/CD) + 1/F*np.arctanh(H/EF)"
   ]
  },
  {
   "cell_type": "code",
   "execution_count": null,
   "metadata": {
    "collapsed": true
   },
   "outputs": [],
   "source": []
  }
 ],
 "metadata": {
  "kernelspec": {
   "display_name": "Python 3",
   "language": "python",
   "name": "python3"
  },
  "language_info": {
   "codemirror_mode": {
    "name": "ipython",
    "version": 3
   },
   "file_extension": ".py",
   "mimetype": "text/x-python",
   "name": "python",
   "nbconvert_exporter": "python",
   "pygments_lexer": "ipython3",
   "version": "3.6.5"
  }
 },
 "nbformat": 4,
 "nbformat_minor": 1
}
