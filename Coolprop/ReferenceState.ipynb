{
 "cells": [
  {
   "cell_type": "code",
   "execution_count": 1,
   "metadata": {},
   "outputs": [
    {
     "name": "stdout",
     "output_type": "stream",
     "text": [
      "      python: 3.7.2 (default, Feb 21 2019, 17:35:59) [MSC v.1915 64 bit (AMD64)]\n",
      "       numpy: 1.15.4\n",
      "  matplotlib: 3.0.2\n",
      "    CoolProp: 6.2.1\n",
      "CoolProp git: 81dbcb71c512b5d57cdfe197e59ae87f0221e4e6\n"
     ]
    }
   ],
   "source": [
    "# all imports and some version info\n",
    "import sys\n",
    "import numpy as np\n",
    "import matplotlib\n",
    "import matplotlib.pyplot as plt\n",
    "\n",
    "import CoolProp as CP\n",
    "from CoolProp.CoolProp import PropsSI\n",
    "\n",
    "# Print the versions\n",
    "print(\"      python: {}\".format(sys.version))\n",
    "print(\"       numpy: {}\".format(np.__version__))\n",
    "print(\"  matplotlib: {}\".format(matplotlib.__version__))\n",
    "print(\"    CoolProp: {}\".format(CP.__version__))\n",
    "print(\"CoolProp git: {}\".format(CP.__gitrevision__))\n",
    "\n",
    "# Constants for conversion and plotting\n",
    "eps = 1e-9\n",
    "kilo = 1e3\n",
    "Mega = 1e6\n",
    "golden = (1 + 5 ** 0.5) / 2\n",
    "nPoints = 1000\n",
    "width = 12.5"
   ]
  },
  {
   "cell_type": "code",
   "execution_count": 2,
   "metadata": {},
   "outputs": [
    {
     "name": "stdout",
     "output_type": "stream",
     "text": [
      "h_IIR: 200000.00871759816\n",
      "s_IIR: 999.9999705292142\n",
      "h_ASH: 151068.6505701928\n",
      "s_ASH: 807.3896736128609\n",
      "h_NBP: 163423.73497872674\n",
      "s_NBP: 859.0883150339447\n"
     ]
    }
   ],
   "source": [
    "# All calculations happen in this cell\n",
    "# All following cells are used for plotting only\n",
    "# Run this cell twice to get rid of error message\n",
    "\n",
    "# Set FluidName\n",
    "FluidName = 'R1234yf'\n",
    "\n",
    "# Reference states\n",
    "T_IIR = 273.15\n",
    "T_ASH =  233.15\n",
    "p_NBP = 101325\n",
    "\n",
    "try:\n",
    "    h_IIR = PropsSI('H', 'T', T_IIR, 'Q', 0, FluidName)\n",
    "    s_IIR = PropsSI('S', 'T', T_IIR, 'Q', 0, FluidName)\n",
    "    print(f\"h_IIR: {h_IIR}\")\n",
    "    print(f\"s_IIR: {s_IIR}\")\n",
    "except:\n",
    "    print(\"IIR: Out of range\")\n",
    "    \n",
    "try:\n",
    "    h_ASH = PropsSI('H', 'T', T_ASH, 'Q', 0, FluidName)\n",
    "    s_ASH = PropsSI('S', 'T', T_ASH, 'Q', 0, FluidName)\n",
    "    print(f\"h_ASH: {h_ASH}\")\n",
    "    print(f\"s_ASH: {s_ASH}\")\n",
    "except:\n",
    "    print(\"ASH: Out of range\")\n",
    "    \n",
    "try:\n",
    "    h_NBP = PropsSI('H', 'P', p_NBP, 'Q', 0, FluidName)\n",
    "    s_NBP = PropsSI('S', 'P', p_NBP, 'Q', 0, FluidName)\n",
    "    print(f\"h_NBP: {h_NBP}\")\n",
    "    print(f\"s_NBP: {s_NBP}\")\n",
    "except:\n",
    "    print(\"NBP: Out of range\")"
   ]
  }
 ],
 "metadata": {
  "kernelspec": {
   "display_name": "Python 3",
   "language": "python",
   "name": "python3"
  },
  "language_info": {
   "codemirror_mode": {
    "name": "ipython",
    "version": 3
   },
   "file_extension": ".py",
   "mimetype": "text/x-python",
   "name": "python",
   "nbconvert_exporter": "python",
   "pygments_lexer": "ipython3",
   "version": "3.7.2"
  }
 },
 "nbformat": 4,
 "nbformat_minor": 2
}
