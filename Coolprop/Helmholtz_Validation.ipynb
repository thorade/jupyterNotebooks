{
 "cells": [
  {
   "cell_type": "code",
   "execution_count": 1,
   "metadata": {},
   "outputs": [
    {
     "name": "stdout",
     "output_type": "stream",
     "text": [
      "6.1.1dev\n",
      "6d076f9a634cd4b0991d075bb6aa0c0aa29ed8dd\n"
     ]
    }
   ],
   "source": [
    "import numpy as np\n",
    "\n",
    "import matplotlib\n",
    "import matplotlib.pyplot as plt\n",
    "import matplotlib.rcsetup as rcsetup\n",
    "\n",
    "import CoolProp as CP\n",
    "from CoolProp.CoolProp import PropsSI\n",
    "\n",
    "# Check: CoolProp version\n",
    "print(CP.__version__)\n",
    "print(CP.__gitrevision__)\n",
    "#print(rcsetup.all_backends)\n",
    "\n",
    "# Constants\n",
    "eps = 1e-3\n",
    "kilo = 1e3\n",
    "Mega = 1e6\n",
    "golden = (1 + 5 ** 0.5) / 2\n",
    "width = 12.5"
   ]
  },
  {
   "cell_type": "code",
   "execution_count": 15,
   "metadata": {},
   "outputs": [
    {
     "name": "stdout",
     "output_type": "stream",
     "text": [
      "R = 8.31451\n",
      "MM = 0.0440098\n",
      "Rs = 188.92405782348476\n",
      "T_crt = 304.1282\n",
      "T_trp = 216.592\n",
      "p_crt = 7377300.0\n",
      "p_trp = 517964.34344772575\n",
      "d_crt = 467.60000128174005\n",
      "d_trp_liq = 1178.4626431723627\n",
      "d_trp_vap = 13.76088500822593\n"
     ]
    }
   ],
   "source": [
    "# Set FluidName\n",
    "FluidName = 'carbondioxide'\n",
    "\n",
    "# Constants, triple and critical data\n",
    "R = PropsSI('GAS_CONSTANT',FluidName)\n",
    "MM = PropsSI('MOLAR_MASS',FluidName)\n",
    "Rs = R/MM\n",
    "T_crt = PropsSI('T_CRITICAL',FluidName)\n",
    "T_trp = PropsSI('T_TRIPLE',FluidName)\n",
    "p_crt = PropsSI('P_CRITICAL',FluidName)\n",
    "p_trp = PropsSI('P_TRIPLE',FluidName)\n",
    "p_max = PropsSI('P_MAX',FluidName)\n",
    "d_crt = PropsSI('RHOMASS_CRITICAL',FluidName)\n",
    "v_crt = 1/d_crt\n",
    "d_trp_liq = PropsSI('D','T',T_trp,'Q',0,FluidName)\n",
    "d_trp_vap = PropsSI('D','T',T_trp,'Q',1,FluidName)\n",
    "print(\"R = \" + str(R))\n",
    "print(\"MM = \" + str(MM))\n",
    "print(\"Rs = \" + str(Rs))\n",
    "print(\"T_crt = \" + str(T_crt))\n",
    "print(\"T_trp = \" + str(T_trp))\n",
    "print(\"p_crt = \" + str(p_crt))\n",
    "print(\"p_trp = \" + str(p_trp))\n",
    "print(\"d_crt = \" + str(d_crt))\n",
    "print(\"d_trp_liq = \" + str(d_trp_liq))\n",
    "print(\"d_trp_vap = \" + str(d_trp_vap))"
   ]
  },
  {
   "cell_type": "code",
   "execution_count": 16,
   "metadata": {},
   "outputs": [
    {
     "name": "stdout",
     "output_type": "stream",
     "text": [
      "-0.9640905615975827 7.906793981591671\n"
     ]
    }
   ],
   "source": [
    "a0 = CP.CoolProp.PropsSI('alpha0','T',304,'D',533,FluidName)\n",
    "a0_t = CP.CoolProp.PropsSI('dalpha0_dtau_constdelta','T',304,'D',533,FluidName)\n",
    "print(a0, a0_t)"
   ]
  },
  {
   "cell_type": "code",
   "execution_count": 17,
   "metadata": {},
   "outputs": [
    {
     "name": "stdout",
     "output_type": "stream",
     "text": [
      "-1.0804416866338413 -0.6664888020756513\n"
     ]
    }
   ],
   "source": [
    "ar = CP.CoolProp.PropsSI('alphar','T',304,'D',533,FluidName)\n",
    "ar_d = CP.CoolProp.PropsSI('dalphar_ddelta_consttau','T',304,'D',533,FluidName)\n",
    "print(ar,ar_d)"
   ]
  },
  {
   "cell_type": "code",
   "execution_count": 20,
   "metadata": {},
   "outputs": [
    {
     "data": {
      "text/plain": [
       "7355817.834450344"
      ]
     },
     "execution_count": 20,
     "metadata": {},
     "output_type": "execute_result"
    }
   ],
   "source": [
    "CP.CoolProp.PropsSI('P','T',304,'D',533,FluidName)"
   ]
  },
  {
   "cell_type": "code",
   "execution_count": null,
   "metadata": {
    "collapsed": true
   },
   "outputs": [],
   "source": []
  }
 ],
 "metadata": {
  "kernelspec": {
   "display_name": "Python 3",
   "language": "python",
   "name": "python3"
  },
  "language_info": {
   "codemirror_mode": {
    "name": "ipython",
    "version": 3
   },
   "file_extension": ".py",
   "mimetype": "text/x-python",
   "name": "python",
   "nbconvert_exporter": "python",
   "pygments_lexer": "ipython3",
   "version": "3.6.1"
  }
 },
 "nbformat": 4,
 "nbformat_minor": 2
}
