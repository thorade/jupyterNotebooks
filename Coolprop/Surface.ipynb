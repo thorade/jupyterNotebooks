{
 "cells": [
  {
   "cell_type": "code",
   "execution_count": 1,
   "metadata": {},
   "outputs": [
    {
     "name": "stdout",
     "output_type": "stream",
     "text": [
      "6.1.1dev\n",
      "6d076f9a634cd4b0991d075bb6aa0c0aa29ed8dd\n"
     ]
    }
   ],
   "source": [
    "############################################################\n",
    "# \n",
    "############################################################\n",
    "\n",
    "# load some bits and pieces\n",
    "import numpy as np\n",
    "from numpy.linalg import solve\n",
    "from numpy.linalg import lstsq\n",
    "from numpy import log\n",
    "\n",
    "import matplotlib\n",
    "import matplotlib.pyplot as plt\n",
    "\n",
    "import CoolProp as CP\n",
    "from CoolProp.CoolProp import PropsSI\n",
    "\n",
    "# Check: CoolProp version\n",
    "print(CP.__version__)\n",
    "print(CP.__gitrevision__)\n",
    "\n",
    "# Constants\n",
    "eps = 1e-3\n",
    "kilo = 1e3\n",
    "Mega = 1e6\n",
    "golden = (1 + 5 ** 0.5) / 2\n",
    "width = 12.5"
   ]
  },
  {
   "cell_type": "code",
   "execution_count": 2,
   "metadata": {},
   "outputs": [
    {
     "name": "stdout",
     "output_type": "stream",
     "text": [
      "R0 = 8.314472\n",
      "Rs = 143.0515706563069\n",
      "MM = 0.0581222\n",
      "Rs = 143.0515706563069\n",
      "T_crt = 425.125\n",
      "T_trp = 134.895\n"
     ]
    }
   ],
   "source": [
    "# Calculation of the coefficients for the metastable region interpolation happens in this cell\n",
    "\n",
    "# Set FluidName\n",
    "FluidName = 'nButane'\n",
    "AS = CP.AbstractState(\"HEOS\", FluidName)\n",
    "nPoints = 100\n",
    "\n",
    "# Constants, triple and critical data\n",
    "R0 = PropsSI('GAS_CONSTANT',FluidName)\n",
    "MM = PropsSI('MOLAR_MASS',FluidName)\n",
    "Rs = R0/MM\n",
    "T_crt = PropsSI('T_CRITICAL',FluidName)\n",
    "T_trp = PropsSI('T_TRIPLE',FluidName)\n",
    "T_max = PropsSI('T_MAX',FluidName)\n",
    "\n",
    "p_crt = PropsSI('P_CRITICAL',FluidName)\n",
    "p_trp = PropsSI('P_TRIPLE',FluidName)\n",
    "p_max = PropsSI('P_MAX',FluidName)\n",
    "\n",
    "d_crt = PropsSI('RHOMASS_CRITICAL',FluidName)\n",
    "d_trp_liq = PropsSI('D','T',T_trp,'Q',0,FluidName)\n",
    "d_trp_vap = PropsSI('D','T',T_trp,'Q',1,FluidName)\n",
    "\n",
    "v_crt = 1/d_crt\n",
    "v_trp_liq = 1/d_trp_liq\n",
    "v_trp_vap = 1/d_trp_vap\n",
    "\n",
    "print(\"R0 = \" + str(R0))\n",
    "print(\"Rs = \" + str(Rs))\n",
    "print(\"MM = \" + str(MM))\n",
    "print(\"Rs = \" + str(Rs))\n",
    "print(\"T_crt = \" + str(T_crt))\n",
    "print(\"T_trp = \" + str(T_trp))\n",
    "\n",
    "# empty matrices \n",
    "iRows = nPoints**2\n",
    "iCols = 11\n",
    "myShape = (iRows,iCols)\n",
    "A = np.empty(myShape)\n",
    "B = np.empty(myShape)\n",
    "\n",
    "# get a range for two input props\n",
    "pRange = np.linspace(p_crt/100, p_max, num=nPoints)\n",
    "TRange = np.linspace((T_crt+T_trp)/2, (T_crt+T_max)/2, num=nPoints)\n",
    "\n",
    "idx = 0\n",
    "# get values from CoolProp\n",
    "for iP in range(0,nPoints):\n",
    "    for iT in range(0,nPoints):        \n",
    "        # update state\n",
    "        AS.update(CP.PT_INPUTS, pRange[iP], TRange[iT]) \n",
    "        A[idx,0] = TRange[iT]\n",
    "        A[idx,1] = pRange[iP]\n",
    "        A[idx,2] = AS.rhomass()\n",
    "        A[idx,3] = AS.smass()\n",
    "        A[idx,4] = AS.umass()\n",
    "        A[idx,5] = AS.hmass()\n",
    "        idx = idx +1\n",
    "\n",
    "A[:,6] = 1/A[:,2]     # v\n",
    "A[:,7] = log(A[:,2])  # lnd\n",
    "A[:,8] = log(A[:,6])  # lnv = -lnd\n",
    "A[:,9] = log(A[:,1])  # lnp\n",
    "A[:,10] = 1/(A[:,0])  # 1/T\n",
    "\n",
    "# make a dimensionless copy\n",
    "B[:,0] = A[:,0]/T_crt\n",
    "B[:,1] = A[:,1]/p_crt\n",
    "B[:,2] = A[:,2]/d_crt\n",
    "B[:,3] = A[:,3]/Rs\n",
    "B[:,4] = A[:,4]/Rs/T_crt\n",
    "B[:,5] = A[:,5]/Rs/T_crt\n",
    "\n",
    "B[:,6] = A[:,6]/v_crt\n",
    "B[:,7] = log(B[:,2])  # lnd\n",
    "B[:,8] = log(B[:,6])  # lnv = -lnd\n",
    "B[:,9] = log(B[:,1])  # lnp\n",
    "B[:,10] = 1/(B[:,0])  # Tc/T\n",
    "\n",
    "np.savetxt(\"Surface_pT_A.csv\", A, delimiter=\",\", header=\"T,p,d,s,u,h,v,lnd,lnv,lnp,Tinv\", comments=\"\")\n",
    "np.savetxt(\"Surface_pT_B.csv\", B, delimiter=\",\", header=\"T,p,d,s,u,h,v,lnd,lnv,lnp,Tinv\", comments=\"\")"
   ]
  },
  {
   "cell_type": "code",
   "execution_count": null,
   "metadata": {},
   "outputs": [],
   "source": []
  }
 ],
 "metadata": {
  "kernelspec": {
   "display_name": "Python 3",
   "language": "python",
   "name": "python3"
  },
  "language_info": {
   "codemirror_mode": {
    "name": "ipython",
    "version": 3
   },
   "file_extension": ".py",
   "mimetype": "text/x-python",
   "name": "python",
   "nbconvert_exporter": "python",
   "pygments_lexer": "ipython3",
   "version": "3.6.1"
  }
 },
 "nbformat": 4,
 "nbformat_minor": 1
}
