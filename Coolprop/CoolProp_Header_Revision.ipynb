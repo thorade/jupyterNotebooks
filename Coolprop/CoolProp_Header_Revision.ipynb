{
 "cells": [
  {
   "cell_type": "code",
   "execution_count": 9,
   "metadata": {
    "collapsed": false
   },
   "outputs": [
    {
     "name": "stdout",
     "output_type": "stream",
     "text": [
      "      python: 3.5.1 (v3.5.1:37a07cee5969, Dec  6 2015, 01:38:48) [MSC v.1900 32 bit (Intel)]\n",
      "       numpy: 1.10.4\n",
      "  matplotlib: 1.5.1\n",
      "    CoolProp: 6.1.0\n",
      "CoolProp git: 7864c2614ce5a0ef972386ee7f39859f0d3f8038\n"
     ]
    }
   ],
   "source": [
    "import sys\n",
    "import numpy as np\n",
    "import matplotlib\n",
    "import matplotlib.pyplot as plt\n",
    "\n",
    "import CoolProp as CP\n",
    "from CoolProp.CoolProp import PropsSI\n",
    "\n",
    "# Check the versions\n",
    "print(\"      python: {}\".format(sys.version))\n",
    "print(\"       numpy: {}\".format(np.__version__))\n",
    "print(\"  matplotlib: {}\".format(matplotlib.__version__))\n",
    "print(\"    CoolProp: {}\".format(CP.__version__))\n",
    "print(\"CoolProp git: {}\".format(CP.__gitrevision__))"
   ]
  },
  {
   "cell_type": "code",
   "execution_count": null,
   "metadata": {
    "collapsed": true
   },
   "outputs": [],
   "source": []
  }
 ],
 "metadata": {
  "kernelspec": {
   "display_name": "Python 3",
   "language": "python",
   "name": "python3"
  },
  "language_info": {
   "codemirror_mode": {
    "name": "ipython",
    "version": 3
   },
   "file_extension": ".py",
   "mimetype": "text/x-python",
   "name": "python",
   "nbconvert_exporter": "python",
   "pygments_lexer": "ipython3",
   "version": "3.5.1"
  }
 },
 "nbformat": 4,
 "nbformat_minor": 0
}
