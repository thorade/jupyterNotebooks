{
 "cells": [
  {
   "cell_type": "markdown",
   "metadata": {},
   "source": [
    "- CoolProp\n",
    "- http://www.coolprop.org/coolprop/REFPROP.html\n",
    "- http://www.coolprop.org/coolprop/HighLevelAPI.html#calling-refprop\n",
    "- http://www.coolprop.org/coolprop/LowLevelAPI.html#low-level-interface-using-refprop\n",
    "- http://www.coolprop.org/coolprop/LowLevelAPI.html#generating-input-pairs\n",
    "- SciPy\n",
    "- https://docs.scipy.org/doc/scipy/reference/generated/scipy.interpolate.griddata.html\n",
    "- https://docs.scipy.org/doc/scipy/reference/generated/scipy.io.savemat.html\n",
    "- https://docs.scipy.org/doc/numpy/reference/generated/numpy.reshape.html"
   ]
  },
  {
   "cell_type": "markdown",
   "metadata": {},
   "source": [
    "Relevant tickets:\n",
    "- HEMAXX https://github.com/usnistgov/REFPROP-wrappers/issues/163\n",
    "- DQ RefProp https://github.com/usnistgov/REFPROP-issues/issues/189\n",
    "- DQ CoolProp https://github.com/CoolProp/CoolProp/issues/1845\n",
    "- sat crit https://github.com/usnistgov/REFPROP-wrappers/issues/152 \n",
    "- melt line https://github.com/CoolProp/CoolProp/issues/1550\n",
    "- p_melt https://github.com/CoolProp/CoolProp/issues/1865"
   ]
  },
  {
   "cell_type": "code",
   "execution_count": 1,
   "metadata": {},
   "outputs": [
    {
     "name": "stdout",
     "output_type": "stream",
     "text": [
      "6.3.0\n",
      "ba41b1434002b1fce6e596386861bca2a890fb6f\n"
     ]
    }
   ],
   "source": [
    "# all imports happen here\n",
    "import numpy as np\n",
    "from numpy.linalg import solve\n",
    "from numpy.linalg import lstsq\n",
    "from numpy import log\n",
    "from scipy.interpolate import griddata\n",
    "import matplotlib\n",
    "import matplotlib.pyplot as plt\n",
    "from mpl_toolkits.mplot3d import Axes3D\n",
    "import CoolProp as CP\n",
    "from CoolProp.CoolProp import PropsSI\n",
    "\n",
    "# Check: CoolProp version\n",
    "print(CP.__version__)\n",
    "print(CP.__gitrevision__)\n",
    "\n",
    "# Constants\n",
    "eps = 1e-3\n",
    "kilo = 1e3\n",
    "Mega = 1e6\n",
    "golden = (1 + 5 ** 0.5) / 2\n",
    "width = 12.5"
   ]
  },
  {
   "cell_type": "code",
   "execution_count": 2,
   "metadata": {},
   "outputs": [
    {
     "name": "stdout",
     "output_type": "stream",
     "text": [
      "MM = 0.044095619999999995 kg/mol\n",
      "R  = 8.3144598 J/(mol.K)\n",
      "Rs = 188.55523065556173 J/(kg.K)\n",
      "\n",
      "T_trp =  85.53 K\n",
      "T_crt =  369.89 K (96.74 C)\n",
      "T_max = 650.00 K\n",
      "\n",
      "p_trp = 1.72E-04 Pa\n",
      "p_crt = 4.25E+06 Pa\n",
      "p_max = 1.00E+09 Pa\n",
      "\n",
      "d_trp_vap = 0.00 kg/m3\n",
      "d_trp_liq = 733.13 kg/m3\n"
     ]
    }
   ],
   "source": [
    "# Set FluidName\n",
    "FluidName = 'Propane'\n",
    "BackEnd = 'REFPROP'\n",
    "myFluid = BackEnd + '::' + FluidName \n",
    "\n",
    "\n",
    "# Constants, triple and critical data\n",
    "R = PropsSI('GAS_CONSTANT',myFluid)\n",
    "MM = PropsSI('MOLAR_MASS',myFluid)\n",
    "Rs = R/MM\n",
    "\n",
    "T_crt = PropsSI('T_CRITICAL',myFluid)\n",
    "T_trp = PropsSI('T_TRIPLE',myFluid)\n",
    "T_max = PropsSI('T_MAX',myFluid)\n",
    "\n",
    "p_crt = PropsSI('P_CRITICAL',myFluid)\n",
    "p_trp = PropsSI('P_TRIPLE',myFluid)\n",
    "p_max = PropsSI('P_MAX',myFluid)\n",
    "\n",
    "d_crt = PropsSI('RHOMASS_CRITICAL',myFluid)\n",
    "d_trp_vap = PropsSI('D','T',T_trp,'Q',1,myFluid)\n",
    "d_trp_liq = PropsSI('D','T',T_trp,'Q',0,myFluid)\n",
    "v_crt = 1/d_crt\n",
    "v_trp_vap = 1/d_trp_vap\n",
    "v_trp_liq = 1/d_trp_liq\n",
    "\n",
    "h_crt = PropsSI('H','T',T_crt,'D',d_crt,myFluid)\n",
    "s_crt = PropsSI('S','T',T_crt,'D',d_crt,myFluid)\n",
    "\n",
    "print(f\"MM = {MM} kg/mol\")\n",
    "print(f\"R  = {R} J/(mol.K)\")\n",
    "print(f\"Rs = {Rs} J/(kg.K)\")\n",
    "print()\n",
    "print(f\"T_trp = {T_trp: 6.2f} K\")\n",
    "print(f\"T_crt = {T_crt: 6.2f} K ({T_crt-273.15:.2f} C)\")\n",
    "print(f\"T_max = {T_max:.2f} K\")\n",
    "print()\n",
    "print(\"p_trp = {:.2E} Pa\".format(p_trp))\n",
    "print(\"p_crt = {:.2E} Pa\".format(p_crt))\n",
    "print(\"p_max = {:.2E} Pa\".format(p_max))\n",
    "print()\n",
    "print(\"d_trp_vap = {:.2f} kg/m3\".format(d_trp_vap))\n",
    "print(\"d_trp_liq = {:.2f} kg/m3\".format(d_trp_liq))"
   ]
  },
  {
   "cell_type": "code",
   "execution_count": 3,
   "metadata": {},
   "outputs": [],
   "source": [
    "# Saturation properties\n",
    "nPoints = 1000\n",
    "T_sat = np.linspace(T_trp, T_crt, num=nPoints)\n",
    "\n",
    "# two AbstractState instances\n",
    "vapState = CP.AbstractState(BackEnd, FluidName)\n",
    "liqState = CP.AbstractState(BackEnd, FluidName)\n",
    "\n",
    "# empty arrays, for all properties in the loop\n",
    "p_sat = np.empty(nPoints)\n",
    "p_mlt = np.empty(nPoints)\n",
    "d_vap = np.empty(nPoints)\n",
    "d_liq = np.empty(nPoints)\n",
    "h_vap = np.empty(nPoints)\n",
    "h_liq = np.empty(nPoints)\n",
    "s_vap = np.empty(nPoints)\n",
    "s_liq = np.empty(nPoints)\n",
    "\n",
    "# loop to get values\n",
    "for idx in range(0,nPoints):\n",
    "    # update states\n",
    "    vapState.update(CP.QT_INPUTS, 1, T_sat[idx]) \n",
    "    liqState.update(CP.QT_INPUTS, 0, T_sat[idx])  \n",
    "    \n",
    "    # store values\n",
    "    p_sat[idx] = liqState.p()\n",
    "    p_mlt[idx] = liqState.melting_line(CP.iP, CP.iT, T_sat[idx])\n",
    "    d_vap[idx] = vapState.rhomass()\n",
    "    d_liq[idx] = liqState.rhomass()\n",
    "    h_vap[idx] = vapState.hmass()\n",
    "    h_liq[idx] = liqState.hmass()\n",
    "    s_vap[idx] = vapState.smass()\n",
    "    s_liq[idx] = liqState.smass()\n",
    "\n",
    "# other calculated values\n",
    "v_vap = 1/d_vap\n",
    "v_liq = 1/d_liq"
   ]
  },
  {
   "cell_type": "code",
   "execution_count": 4,
   "metadata": {},
   "outputs": [
    {
     "data": {
      "image/png": "[encoded data removed]",
      "text/plain": [
       "<Figure size 432x288 with 2 Axes>"
      ]
     },
     "metadata": {
      "needs_background": "light"
     },
     "output_type": "display_data"
    }
   ],
   "source": [
    "# subplot rows, cols, id\n",
    "plt.subplot(1,2,1)\n",
    "plt.plot(d_vap/d_crt, T_sat/T_crt, color='r', linestyle='none', marker='.', markersize=2)\n",
    "plt.plot(d_liq/d_crt, T_sat/T_crt, color='b', linestyle='none', marker='.', markersize=2)\n",
    "plt.grid(b=True, linestyle=':')\n",
    "plt.minorticks_on()\n",
    "plt.xlabel(r'$\\rho / \\rho_c$')\n",
    "plt.ylabel(r'$T / T_c$')\n",
    "\n",
    "plt.subplot(1,2,2)\n",
    "plt.plot(T_sat/T_crt, p_sat/p_crt, color='r', linestyle='none', marker='.', markersize=2)\n",
    "plt.plot(T_sat/T_crt, p_mlt/p_crt,color='g', linestyle='none', marker='.', markersize=2)\n",
    "plt.grid(b=True, linestyle=':')\n",
    "plt.minorticks_on()\n",
    "plt.xlabel(r'$T / T_c$')\n",
    "plt.ylabel(r'$p / p_c$')\n",
    "plt.yscale('log')\n",
    "\n",
    "plt.tight_layout()\n",
    "plt.savefig('SBTL_sat.pdf')\n",
    "plt.show()"
   ]
  },
  {
   "cell_type": "code",
   "execution_count": 5,
   "metadata": {},
   "outputs": [],
   "source": [
    "#pT plane\n",
    "nPoints = 20\n",
    "\n",
    "# two AbstractState instances\n",
    "pT_State = CP.AbstractState(BackEnd, FluidName)\n",
    "\n",
    "# empty arrays, for all properties in the loop\n",
    "nPoints2 = nPoints*nPoints\n",
    "d = np.empty(nPoints2)\n",
    "T = np.empty(nPoints2)\n",
    "p = np.empty(nPoints2)\n",
    "h = np.empty(nPoints2)\n",
    "s = np.empty(nPoints2)\n",
    "ddph = np.empty(nPoints2)\n",
    "ddhp = np.empty(nPoints2)\n",
    "dTph = np.empty(nPoints2)\n",
    "dThp = np.empty(nPoints2)\n",
    "\n",
    "# loop to get values\n",
    "idx=0\n",
    "T_in = np.linspace(T_trp, 1.5*T_max, num=nPoints)\n",
    "for Ti in range(0,nPoints):\n",
    "    try:\n",
    "        p_in = np.linspace(p_trp, min(p_max, pT_State.melting_line(CP.iP, CP.iT, T_in[Ti])) , num=nPoints) \n",
    "    except:\n",
    "        p_in = np.linspace(p_trp, p_max , num=nPoints)         \n",
    "    \n",
    "    for pi in range(0,nPoints):\n",
    "        # update state\n",
    "        pT_State.update(CP.PT_INPUTS, p_in[pi], T_in[Ti])\n",
    "\n",
    "        # store values\n",
    "        d[idx] = pT_State.rhomass()\n",
    "        T[idx] = pT_State.T()\n",
    "        p[idx] = pT_State.p()\n",
    "        h[idx] = pT_State.hmass()\n",
    "        s[idx] = pT_State.smass()\n",
    "        ddph[idx] = pT_State.first_partial_deriv(CP.iDmass, CP.iP, CP.iHmass)\n",
    "        ddhp[idx] = pT_State.first_partial_deriv(CP.iDmass, CP.iHmass, CP.iP)\n",
    "        dTph[idx] = pT_State.first_partial_deriv(CP.iT, CP.iP, CP.iHmass)\n",
    "        dThp[idx] = pT_State.first_partial_deriv(CP.iT, CP.iHmass, CP.iP)\n",
    "        idx += 1\n",
    "\n",
    "# other calculated values\n",
    "# v = 1/d"
   ]
  },
  {
   "cell_type": "code",
   "execution_count": 6,
   "metadata": {},
   "outputs": [
    {
     "name": "stdout",
     "output_type": "stream",
     "text": [
      "h min: -196643.0763696834, h max: 3692090.955352008\n",
      "p min: 0.00017204592906531604, p max: 1000000000.0\n"
     ]
    },
    {
     "data": {
      "image/png": "[encoded data removed]",
      "text/plain": [
       "<Figure size 432x288 with 2 Axes>"
      ]
     },
     "metadata": {
      "needs_background": "light"
     },
     "output_type": "display_data"
    }
   ],
   "source": [
    "# grid transform\n",
    "Xname = \"h\"\n",
    "Yname = \"p\"\n",
    "Zname = \"s\"\n",
    "\n",
    "# assign data to x,y,z\n",
    "x = h\n",
    "y = p\n",
    "z = s\n",
    "\n",
    "# interpolate data to regular grid\n",
    "print(f\"{Xname} min: {x.min()}, {Xname} max: {x.max()}\")\n",
    "print(f\"{Yname} min: {y.min()}, {Yname} max: {y.max()}\")\n",
    "xi = np.linspace(x.min(), x.max(), 400)\n",
    "yi = np.linspace(y.min(), y.max(), 400)\n",
    "zi = griddata((x, y), z, (xi[None,:], yi[:,None]), method='cubic', rescale=True)\n",
    "\n",
    "# plotting\n",
    "fig, ax1 = plt.subplots()\n",
    "ax1.set_xlabel(Xname)\n",
    "ax1.set_ylabel(Yname)\n",
    "ax1.set_yscale(\"log\") \n",
    "# lines\n",
    "ax1.contour(xi, yi, zi, levels=16, linewidths=0.1, colors='k')\n",
    "# filling\n",
    "cont1 = ax1.contourf(xi, yi, zi, levels=16, cmap=\"RdBu_r\")\n",
    "# colorbar\n",
    "cbar = fig.colorbar(cont1, ax=ax1)\n",
    "cbar.set_label(Zname)\n",
    "# sat line\n",
    "plt.plot(h_vap, p_sat, color='r', linestyle='solid')\n",
    "plt.plot(h_liq, p_sat, color='b', linestyle='solid')\n",
    "# save fig\n",
    "plt.savefig(Zname + '.pdf')\n",
    "plt.show()"
   ]
  },
  {
   "cell_type": "code",
   "execution_count": 7,
   "metadata": {},
   "outputs": [
    {
     "name": "stdout",
     "output_type": "stream",
     "text": [
      "-24.755420595417373\n",
      "2572151.189782727\n"
     ]
    }
   ],
   "source": [
    "print(PropsSI('PIP','T',0.8*T_crt,'D',d_crt,myFluid))\n",
    "print(PropsSI('HMASS','T',1.5*T_max,'D',d_crt,myFluid))"
   ]
  },
  {
   "cell_type": "code",
   "execution_count": null,
   "metadata": {},
   "outputs": [],
   "source": []
  }
 ],
 "metadata": {
  "kernelspec": {
   "display_name": "Python 3",
   "language": "python",
   "name": "python3"
  },
  "language_info": {
   "codemirror_mode": {
    "name": "ipython",
    "version": 3
   },
   "file_extension": ".py",
   "mimetype": "text/x-python",
   "name": "python",
   "nbconvert_exporter": "python",
   "pygments_lexer": "ipython3",
   "version": "3.6.8"
  }
 },
 "nbformat": 4,
 "nbformat_minor": 2
}
