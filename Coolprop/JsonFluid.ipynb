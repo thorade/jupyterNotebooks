{
 "cells": [
  {
   "cell_type": "code",
   "execution_count": 1,
   "metadata": {},
   "outputs": [
    {
     "name": "stdout",
     "output_type": "stream",
     "text": [
      "C:\\Users\\mthorade\\Documents\\git\\CoolProp\\dev\\fluids\\n-Butane.json\n",
      "{'2DPNG_URL': 'http://www.chemspider.com/ImagesHandler.ashx?id=7555', 'ALIASES': ['nButane', 'butane', 'BUTANE', 'N-BUTANE', 'R600'], 'CAS': '106-97-8', 'CHEMSPIDER_ID': 7555, 'ENVIRONMENTAL': {'ASHRAE34': 'A3', 'FH': 4, 'GWP100': 3.0, 'GWP20': -1.0, 'GWP500': -1.0, 'HH': 1, 'Name': 'n-Butane', 'ODP': -1.0, 'PH': 0}, 'FORMULA': 'C_{4}H_{10}', 'INCHI_KEY': 'IJDNQMDRQITEOD-UHFFFAOYAE', 'INCHI_STRING': 'InChI=1/C4H10/c1-3-4-2/h3-4H2,1-2H3', 'NAME': 'n-Butane', 'REFPROP_NAME': 'BUTANE', 'SMILES': 'CCCC'}\n"
     ]
    }
   ],
   "source": [
    "import numpy as np\n",
    "import matplotlib\n",
    "import matplotlib.pyplot as plt\n",
    "import os.path\n",
    "import json\n",
    "\n",
    "fluid = 'n-Butane'\n",
    "jExt = '.json'\n",
    "CPFluidDir = os.path.abspath(r'C:\\Users\\mthorade\\Documents\\git\\CoolProp\\dev\\fluids')\n",
    "#CPFluidDir = os.path.abspath(r'C:\\Users\\mthorade\\Documents\\Python\\EnEffBIM-Framework\\MoCGF\\test')\n",
    "# CPFluidDir = os.path.abspath(r'C:\\Users\\mthorade\\Downloads')\n",
    "fluidPath = os.path.join(CPFluidDir,fluid + jExt)\n",
    "print(fluidPath)\n",
    "\n",
    "jD = json.load(open(fluidPath, 'r'))\n",
    "print(jD['INFO'])"
   ]
  },
  {
   "cell_type": "code",
   "execution_count": 2,
   "metadata": {
    "collapsed": true
   },
   "outputs": [],
   "source": [
    "# Testing ancillary p=p(T)\n",
    "\n",
    "nPoints = 10000\n",
    "\n",
    "pS_r = jD['ANCILLARIES']['pS']['reducing_value']\n",
    "TS_r = jD['ANCILLARIES']['pS']['T_r']\n",
    "\n",
    "TSmin = jD['ANCILLARIES']['pS']['Tmin']\n",
    "TSmax = jD['ANCILLARIES']['pS']['Tmax']\n",
    "\n",
    "pSn = jD['ANCILLARIES']['pS']['n']\n",
    "pSt = jD['ANCILLARIES']['pS']['t']\n",
    "\n",
    "TS_sat = np.linspace(TSmin, TSmax, num=nPoints)\n",
    "\n",
    "tauS = TS_r/TS_sat\n",
    "ThetaS = 1-TS_sat/TS_r\n",
    "\n",
    "pS_sat = np.empty(nPoints)\n",
    "\n",
    "for idx in range(0,nPoints):\n",
    "  pS_sat[idx] = pS_r*np.exp(tauS[idx]*sum(pSn*ThetaS[idx]**pSt))"
   ]
  },
  {
   "cell_type": "code",
   "execution_count": 3,
   "metadata": {},
   "outputs": [
    {
     "data": {
      "image/png": "[encoded data removed]",
      "text/plain": [
       "<matplotlib.figure.Figure at 0x225e0e1e4a8>"
      ]
     },
     "metadata": {},
     "output_type": "display_data"
    }
   ],
   "source": [
    "plt.plot(TS_sat, pS_sat, color='green', linestyle='-.')\n",
    "plt.show()"
   ]
  },
  {
   "cell_type": "code",
   "execution_count": null,
   "metadata": {
    "collapsed": true
   },
   "outputs": [],
   "source": []
  }
 ],
 "metadata": {
  "kernelspec": {
   "display_name": "Python 3",
   "language": "python",
   "name": "python3"
  },
  "language_info": {
   "codemirror_mode": {
    "name": "ipython",
    "version": 3
   },
   "file_extension": ".py",
   "mimetype": "text/x-python",
   "name": "python",
   "nbconvert_exporter": "python",
   "pygments_lexer": "ipython3",
   "version": "3.6.3"
  }
 },
 "nbformat": 4,
 "nbformat_minor": 1
}
