{
 "cells": [
  {
   "cell_type": "code",
   "execution_count": 1,
   "metadata": {},
   "outputs": [
    {
     "name": "stdout",
     "output_type": "stream",
     "text": [
      "6.1.1dev\n",
      "6d076f9a634cd4b0991d075bb6aa0c0aa29ed8dd\n",
      "460.35\n"
     ]
    }
   ],
   "source": [
    "import CoolProp as CP\n",
    "from CoolProp.CoolProp import PropsSI\n",
    "# Check: CoolProp version\n",
    "print(CP.__version__)\n",
    "print(CP.__gitrevision__)\n",
    "\n",
    "FluidName = 'Isopentane'\n",
    "# Constants, triple and critical data\n",
    "R = PropsSI('GAS_CONSTANT',FluidName)\n",
    "MM = PropsSI('MOLAR_MASS',FluidName)\n",
    "Rs = R/MM\n",
    "T_crt = PropsSI('T_CRITICAL',FluidName)\n",
    "T_trp = PropsSI('T_TRIPLE',FluidName)\n",
    "p_max = PropsSI('P_MAX',FluidName)\n",
    "# d_max = PropsSI('D','T',T_trp,'P',p_max,FluidName)\n",
    "\n",
    "print(T_crt)"
   ]
  },
  {
   "cell_type": "code",
   "execution_count": 6,
   "metadata": {},
   "outputs": [
    {
     "name": "stdout",
     "output_type": "stream",
     "text": [
      "Viscosity = 0.0001904883627455349 Pa-s\n",
      "Thermal Conductivity = 0.10114856430819347 W/m-K\n"
     ]
    }
   ],
   "source": [
    "T =300\n",
    "P=101325\n",
    "\n",
    "# Get Viscosity, V, in [Pa-s]\n",
    "print ('Viscosity = {0} Pa-s'.format(PropsSI('viscosity','T',T,'P',P,FluidName)))\n",
    "# Get Thermal Conductivity, L, in [W/m-K]\n",
    "print ('Thermal Conductivity = {0} W/m-K'.format(PropsSI('conductivity','T',T,'P',P,FluidName)))"
   ]
  },
  {
   "cell_type": "code",
   "execution_count": 9,
   "metadata": {},
   "outputs": [
    {
     "name": "stdout",
     "output_type": "stream",
     "text": [
      "6.1.1dev\n",
      "6d076f9a634cd4b0991d075bb6aa0c0aa29ed8dd\n",
      "0.0001904883627455349\n",
      "0.10114856430819347\n"
     ]
    }
   ],
   "source": [
    "import CoolProp as CP\n",
    "from CoolProp.CoolProp import PropsSI\n",
    "print(CP.__version__)\n",
    "print(CP.__gitrevision__)\n",
    "\n",
    "FluidName = 'Isopentane'\n",
    "T =300\n",
    "P=101325\n",
    "\n",
    "# Get Viscosity, V, in [Pa-s]\n",
    "print (PropsSI('viscosity','T',T,'P',P,FluidName))\n",
    "# Get Thermal Conductivity, L, in [W/m-K]\n",
    "print (PropsSI('conductivity','T',T,'P',P,FluidName))"
   ]
  },
  {
   "cell_type": "code",
   "execution_count": null,
   "metadata": {
    "collapsed": true
   },
   "outputs": [],
   "source": []
  }
 ],
 "metadata": {
  "kernelspec": {
   "display_name": "Python 3",
   "language": "python",
   "name": "python3"
  },
  "language_info": {
   "codemirror_mode": {
    "name": "ipython",
    "version": 3
   },
   "file_extension": ".py",
   "mimetype": "text/x-python",
   "name": "python",
   "nbconvert_exporter": "python",
   "pygments_lexer": "ipython3",
   "version": "3.6.3"
  }
 },
 "nbformat": 4,
 "nbformat_minor": 1
}
