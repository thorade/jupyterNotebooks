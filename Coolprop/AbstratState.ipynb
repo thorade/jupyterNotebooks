{
 "cells": [
  {
   "cell_type": "code",
   "execution_count": 1,
   "metadata": {},
   "outputs": [
    {
     "name": "stdout",
     "output_type": "stream",
     "text": [
      "6.1.1dev\n",
      "6d076f9a634cd4b0991d075bb6aa0c0aa29ed8dd\n",
      "2011.4552735735401\n"
     ]
    }
   ],
   "source": [
    "import numpy as np\n",
    "import matplotlib\n",
    "import matplotlib.pyplot as plt\n",
    "\n",
    "import CoolProp as CP\n",
    "from CoolProp.CoolProp import PropsSI\n",
    "\n",
    "# Check: CoolProp version\n",
    "print(CP.__version__)\n",
    "print(CP.__gitrevision__)\n",
    "\n",
    "FluidName = 'Propane'\n",
    "\n",
    "myState = CP.AbstractState(\"HEOS\", FluidName)\n",
    "myState.update(CP.PT_INPUTS, 101325, 373)\n",
    "cp = myState.cpmass()\n",
    "\n",
    "print(cp)"
   ]
  },
  {
   "cell_type": "code",
   "execution_count": null,
   "metadata": {},
   "outputs": [],
   "source": []
  }
 ],
 "metadata": {
  "kernelspec": {
   "display_name": "Python 3",
   "language": "python",
   "name": "python3"
  },
  "language_info": {
   "codemirror_mode": {
    "name": "ipython",
    "version": 3
   },
   "file_extension": ".py",
   "mimetype": "text/x-python",
   "name": "python",
   "nbconvert_exporter": "python",
   "pygments_lexer": "ipython3",
   "version": "3.6.8"
  }
 },
 "nbformat": 4,
 "nbformat_minor": 1
}
