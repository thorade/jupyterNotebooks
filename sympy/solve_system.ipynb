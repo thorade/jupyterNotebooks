{
 "cells": [
  {
   "cell_type": "code",
   "execution_count": 8,
   "metadata": {
    "collapsed": false
   },
   "outputs": [
    {
     "name": "stdout",
     "output_type": "stream",
     "text": [
      "0.7.6.1\n"
     ]
    }
   ],
   "source": [
    "import sympy\n",
    "from sympy import *\n",
    "print(sympy.__version__)\n",
    "init_printing(use_unicode=True)"
   ]
  },
  {
   "cell_type": "code",
   "execution_count": 18,
   "metadata": {
    "collapsed": false
   },
   "outputs": [
    {
     "ename": "SyntaxError",
     "evalue": "invalid syntax (<ipython-input-18-e271d2ccb0ed>, line 11)",
     "output_type": "error",
     "traceback": [
      "\u001b[1;36m  File \u001b[1;32m\"<ipython-input-18-e271d2ccb0ed>\"\u001b[1;36m, line \u001b[1;32m11\u001b[0m\n\u001b[1;33m    print(\"p = {}\".format((sols[].factor()))\u001b[0m\n\u001b[1;37m                                ^\u001b[0m\n\u001b[1;31mSyntaxError\u001b[0m\u001b[1;31m:\u001b[0m invalid syntax\n"
     ]
    }
   ],
   "source": [
    "from sympy import S, Eq, solve\n",
    "m, mt, k, a, b = symbols('m mt k a b')\n",
    "\n",
    "equations = [\n",
    "...     Eq(vf, vi+a*t),\n",
    "...     Eq(d, vi*t + a*t**2/2),\n",
    "...     Eq(a, 10),\n",
    "...     Eq(d, 60),\n",
    "...     Eq(vi, 5)]\n",
    "\n",
    "p = m**2/k**2\n",
    "E = a*sinh(b*m)\n",
    "\n",
    "pd = 2*m/k**2\n",
    "Ed = a*b*cosh(b*m)\n",
    "sols = solve([E, Ed], [p, pd])\n",
    "\n",
    "print(\"p = {}\".format((sols[].factor()))"
   ]
  },
  {
   "cell_type": "code",
   "execution_count": 35,
   "metadata": {
    "collapsed": false
   },
   "outputs": [
    {
     "data": {
      "image/png": "[encoded data removed]",
      "text/latex": [
       "$$\\left [ \\left \\{ a : \\frac{1}{\\sinh{\\left (b \\right )}}\\right \\}\\right ]$$"
      ],
      "text/plain": [
       "⎡⎧      1   ⎫⎤\n",
       "⎢⎨a: ───────⎬⎥\n",
       "⎣⎩   sinh(b)⎭⎦"
      ]
     },
     "execution_count": 35,
     "metadata": {},
     "output_type": "execute_result"
    }
   ],
   "source": [
    "solve([Eq(a*sinh(b*1), 1**2/1**2)], [a, b])"
   ]
  },
  {
   "cell_type": "code",
   "execution_count": 26,
   "metadata": {
    "collapsed": false
   },
   "outputs": [
    {
     "data": {
      "image/png": "[encoded data removed]",
      "text/latex": [
       "$$\\left [ \\left \\{ a : \\frac{12.5}{b \\cosh{\\left (b \\right )}}\\right \\}\\right ]$$"
      ],
      "text/plain": [
       "⎡⎧      12.5  ⎫⎤\n",
       "⎢⎨a: ─────────⎬⎥\n",
       "⎣⎩   b⋅cosh(b)⎭⎦"
      ]
     },
     "execution_count": 26,
     "metadata": {},
     "output_type": "execute_result"
    }
   ],
   "source": [
    "solve([Eq(a*b*cosh(b*1), 2*1/0.4**2)], [a,b])"
   ]
  },
  {
   "cell_type": "code",
   "execution_count": 37,
   "metadata": {
    "collapsed": false
   },
   "outputs": [],
   "source": [
    "solve([Eq(a*sinh(b*0.3), 0.3**2/1**2), Eq(a*b*cosh(b*0.3), 2*0.3/1**2)], [a, b])"
   ]
  },
  {
   "cell_type": "code",
   "execution_count": 42,
   "metadata": {
    "collapsed": false
   },
   "outputs": [
    {
     "data": {
      "image/png": "[encoded data removed]",
      "text/latex": [
       "$$\\left [ 0, \\quad \\frac{i \\pi}{b}\\right ]$$"
      ],
      "text/plain": [
       "⎡   ⅈ⋅π⎤\n",
       "⎢0, ───⎥\n",
       "⎣    b ⎦"
      ]
     },
     "execution_count": 42,
     "metadata": {},
     "output_type": "execute_result"
    }
   ],
   "source": [
    "solve(Eq(a*sinh(b*x)), x)"
   ]
  },
  {
   "cell_type": "code",
   "execution_count": null,
   "metadata": {
    "collapsed": true
   },
   "outputs": [],
   "source": []
  }
 ],
 "metadata": {
  "kernelspec": {
   "display_name": "Python 3",
   "language": "python",
   "name": "python3"
  },
  "language_info": {
   "codemirror_mode": {
    "name": "ipython",
    "version": 3
   },
   "file_extension": ".py",
   "mimetype": "text/x-python",
   "name": "python",
   "nbconvert_exporter": "python",
   "pygments_lexer": "ipython3",
   "version": "3.5.1"
  }
 },
 "nbformat": 4,
 "nbformat_minor": 0
}
