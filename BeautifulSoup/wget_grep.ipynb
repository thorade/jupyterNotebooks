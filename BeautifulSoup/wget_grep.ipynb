{
 "cells": [
  {
   "cell_type": "markdown",
   "metadata": {},
   "source": [
    "https://github.com/modelica/ModelicaStandardLibrary/pull/2352#issuecomment-335780521"
   ]
  },
  {
   "cell_type": "code",
   "execution_count": 10,
   "metadata": {},
   "outputs": [
    {
     "name": "stdout",
     "output_type": "stream",
     "text": [
      "Downloaded 32 files with .err extension\n"
     ]
    }
   ],
   "source": [
    "from bs4 import BeautifulSoup\n",
    "import requests\n",
    "import os\n",
    "\n",
    "URL = 'https://libraries.openmodelica.org/branches/newInst/HelmholtzMedia/files/'\n",
    "extension = \".err\"\n",
    "\n",
    "req1  = requests.get(URL)\n",
    "text1 = req1.text\n",
    "soup = BeautifulSoup(text1, \"lxml\")\n",
    "\n",
    "occ = 0\n",
    "for anchor in soup.find_all('a'):\n",
    "    link = anchor.get('href')\n",
    "    if link.endswith(extension):\n",
    "        req2 = requests.get(URL+link) \n",
    "        with open(os.path.join(os.curdir,\"temp\",link), 'w') as fil:\n",
    "            occ = occ+1\n",
    "            fil.write(req2.text)\n",
    "print(\"Downloaded {} files with {} extension\".format(occ, extension))"
   ]
  },
  {
   "cell_type": "code",
   "execution_count": null,
   "metadata": {},
   "outputs": [],
   "source": [
    "import os\n",
    "\n",
    "sterm = \"overflow\"\n",
    "\n",
    "occ = 0\n",
    "for root, dirs, files in os.walk(\"temp\"):\n",
    "    for file in files:\n",
    "        filPat = os.path.join(root, file)\n",
    "        if filPat.endswith('err'):\n",
    "            with open(filPat, mode=\"r\") as fil:\n",
    "                for num, line in enumerate(fil, 1):\n",
    "                    if sterm in line:\n",
    "                        occ = occ+1\n",
    "                        print(\"file: {}\".format(filPat))\n",
    "                        print(\"line {}: {}\\n\".format(num, line))\n",
    "print(\"Found {} occurences of {}\".format(occ, sterm))"
   ]
  }
 ],
 "metadata": {
  "kernelspec": {
   "display_name": "Python 3",
   "language": "python",
   "name": "python3"
  },
  "language_info": {
   "codemirror_mode": {
    "name": "ipython",
    "version": 3
   },
   "file_extension": ".py",
   "mimetype": "text/x-python",
   "name": "python",
   "nbconvert_exporter": "python",
   "pygments_lexer": "ipython3",
   "version": "3.6.5"
  }
 },
 "nbformat": 4,
 "nbformat_minor": 2
}
