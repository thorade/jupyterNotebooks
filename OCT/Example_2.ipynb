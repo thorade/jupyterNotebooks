{
 "cells": [
  {
   "cell_type": "code",
   "execution_count": 5,
   "metadata": {},
   "outputs": [
    {
     "name": "stdout",
     "output_type": "stream",
     "text": [
      "2.7.13 (v2.7.13:a06454b1afa1, Dec 17 2016, 20:53:40) [MSC v.1500 64 bit (AMD64)]\n",
      "C:\\Users\\matthis.thorade\\Documents\\git\\jupyterNotebooks\\OCT\n",
      "True: c:\\OCT-darwin-stable-r11006\\\\install\\ThirdParty\\MSL\\Modelica\\package.mo\n",
      "True: c:\\OCT-darwin-stable-r11006\\\\install\\ThirdParty\\MSL\\ModelicaServices\\package.mo\n",
      "True: \\Users\\matthis.thorade\\Documents\\Dymola\\P509-ML\\Modelon\\package.mo\n",
      "True: \\Users\\matthis.thorade\\Documents\\Dymola\\P513-RegressionTesting\\RegressionTesting\\package.mo\n",
      "True: \\Users\\matthis.thorade\\Documents\\Dymola\\P501-AC\\ThermoFluidPro\\package.mo\n",
      "True: \\Users\\matthis.thorade\\Documents\\Dymola\\P501-AC\\AirConditioning\\package.mo\n",
      "True: \\Users\\matthis.thorade\\Documents\\Dymola\\P501-AC\\AirConditioningTests\\package.mo\n"
     ]
    }
   ],
   "source": [
    "# paths and info\n",
    "import os, sys\n",
    "homeDir = os.environ['HOMEPATH']\n",
    "jmodDir = os.environ['JMODELICA_HOME']\n",
    "moLiDir = os.path.join(homeDir, \"Documents\", \"Dymola\")\n",
    "\n",
    "# give the path to directory where package.mo is stored\n",
    "moLibs = [os.path.join(jmodDir, \"ThirdParty\\MSL\\Modelica\"),\n",
    "          os.path.join(jmodDir, \"ThirdParty\\MSL\\ModelicaServices\"),\n",
    "          os.path.join(moLiDir, \"P509-ML\", \"Modelon\"),\n",
    "          os.path.join(moLiDir, \"P513-RegressionTesting\", \"RegressionTesting\"),\n",
    "          os.path.join(moLiDir, \"P501-AC\", \"ThermoFluidPro\"),\n",
    "          os.path.join(moLiDir, \"P501-AC\", \"AirConditioning\"),\n",
    "          os.path.join(moLiDir, \"P501-AC\", \"AirConditioningTests\"),\n",
    "         ]\n",
    "\n",
    "print(sys.version)\n",
    "print(os.getcwd())\n",
    "for moLib in moLibs:\n",
    "    if moLib.endswith(\"mo\"):\n",
    "        print(str(os.path.isfile(moLib)) + \": \" + moLib)\n",
    "    else:        \n",
    "        print(str(os.path.isfile(os.path.join(moLib, \"package.mo\"))) + \": \" + os.path.join(moLib, \"package.mo\"))"
   ]
  },
  {
   "cell_type": "code",
   "execution_count": 2,
   "metadata": {},
   "outputs": [
    {
     "name": "stdout",
     "output_type": "stream",
     "text": [
      "C:\\Users\\matthis.thorade\\Documents\\git\\jupyterNotebooks\\OCT\\.\\AirConditioningTests_AC_Templates_CondReceiverIHXCycle.fmu\n"
     ]
    }
   ],
   "source": [
    "# compile model to fmu\n",
    "from pymodelica import compile_fmu\n",
    "model_name = 'AirConditioningTests.AC_Templates.CondReceiverIHXCycle'\n",
    "my_fmu = compile_fmu(model_name, \n",
    "                     moLibs, \n",
    "                     compiler= 'modelica', \n",
    "                     compiler_options={\"msvs_version\":\"2017\", \n",
    "                                       \"generate_html_diagnostics\":\"true\", \n",
    "                                       \"generate_mof_files\":\"true\"} , \n",
    "                     target='me', \n",
    "                     version='2.0', \n",
    "                     platform='win64', \n",
    "                     compile_to='.', \n",
    "                     compiler_log_level='debug:log.txt', \n",
    "                     jvm_args='-Xmx8g')\n",
    "print(my_fmu)"
   ]
  },
  {
   "cell_type": "code",
   "execution_count": 3,
   "metadata": {},
   "outputs": [
    {
     "name": "stdout",
     "output_type": "stream",
     "text": [
      "Final Run Statistics: --- e+02\n",
      "\n",
      " Number of steps                                 : 1002\n",
      " Number of function evaluations                  : 1207\n",
      " Number of Jacobian evaluations                  : 21\n",
      " Number of function eval. due to Jacobian eval.  : 0\n",
      " Number of error test failures                   : 24\n",
      " Number of nonlinear iterations                  : 1203\n",
      " Number of nonlinear convergence failures        : 0\n",
      " Number of state function evaluations            : 1003\n",
      "\n",
      "Solver options:\n",
      "\n",
      " Solver                   : CVode\n",
      " Linear multistep method  : BDF\n",
      " Nonlinear solver         : Newton\n",
      " Linear solver type       : SPARSE\n",
      " Maximal order            : 5\n",
      " Tolerances (absolute)    : 1e-06\n",
      " Tolerances (relative)    : 1e-06\n",
      "\n",
      "Simulation interval    : 0.0 - 180.0 seconds.\n",
      "Elapsed simulation time: 37.533112 seconds.\n"
     ]
    }
   ],
   "source": [
    "# simulate the fmu and store results\n",
    "my_fmu = \"AirConditioningTests_AC_Templates_CondReceiverIHXCycle.fmu\"\n",
    "from pyfmi import load_fmu\n",
    "myModel = load_fmu(my_fmu)\n",
    "\n",
    "opts = myModel.simulate_options()\n",
    "opts['solver'] = \"CVode\"\n",
    "opts['ncp'] = 500\n",
    "opts['result_handling']=\"file\"\n",
    "opts[\"CVode_options\"]['discr'] = 'BDF'\n",
    "opts['CVode_options']['iter'] = 'Newton'\n",
    "opts['CVode_options']['maxord'] = 5\n",
    "opts['CVode_options']['atol'] = 1e-6\n",
    "opts['CVode_options']['rtol'] = 1e-6\n",
    "\n",
    "res = myModel.simulate(start_time=0, final_time=180, options=opts)"
   ]
  },
  {
   "cell_type": "code",
   "execution_count": 4,
   "metadata": {},
   "outputs": [
    {
     "data": {
      "image/png": "[encoded data removed]",
      "text/plain": [
       "<matplotlib.figure.Figure at 0x26d7ba90>"
      ]
     },
     "metadata": {},
     "output_type": "display_data"
    },
    {
     "data": {
      "image/png": "[encoded data removed]",
      "text/plain": [
       "<matplotlib.figure.Figure at 0x2182fb00>"
      ]
     },
     "metadata": {},
     "output_type": "display_data"
    }
   ],
   "source": [
    "# plotting of the results\n",
    "import matplotlib.pyplot as plt\n",
    "\n",
    "time = 'time'\n",
    "names = ['summary.SpecificCharge', 'summary.P_condenser']\n",
    "\n",
    "x = res[time]\n",
    "for name in names:\n",
    "    y = res[name]\n",
    "    plt.plot(x, y)\n",
    "    plt.xlabel('Time (s)')\n",
    "    plt.ylabel(name)\n",
    "    plt.savefig(name.replace('.','_')+'.pdf')\n",
    "    plt.show()"
   ]
  }
 ],
 "metadata": {
  "kernelspec": {
   "display_name": "Python 2",
   "language": "python",
   "name": "python2"
  },
  "language_info": {
   "codemirror_mode": {
    "name": "ipython",
    "version": 2
   },
   "file_extension": ".py",
   "mimetype": "text/x-python",
   "name": "python",
   "nbconvert_exporter": "python",
   "pygments_lexer": "ipython2",
   "version": "2.7.13"
  },
  "toc": {
   "base_numbering": 1,
   "nav_menu": {},
   "number_sections": true,
   "sideBar": true,
   "skip_h1_title": false,
   "title_cell": "Table of Contents",
   "title_sidebar": "Contents",
   "toc_cell": false,
   "toc_position": {},
   "toc_section_display": true,
   "toc_window_display": false
  }
 },
 "nbformat": 4,
 "nbformat_minor": 2
}
