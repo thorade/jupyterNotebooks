{
 "cells": [
  {
   "cell_type": "code",
   "execution_count": 1,
   "metadata": {},
   "outputs": [
    {
     "name": "stdout",
     "output_type": "stream",
     "text": [
      "2.7.13 (v2.7.13:a06454b1afa1, Dec 17 2016, 20:53:40) [MSC v.1500 64 bit (AMD64)]\n",
      "OCT-dev-cw-2718-r12038_JM-dev-cw-2718-r14269\n",
      "============================================================================\n",
      "C:\\Users\\matthis.thorade\\Documents\\git\\jupyterNotebooks\\OCT\n",
      "True: \\Users\\matthis.thorade\\Documents\\Dymola\\ModelicaStandardLibrary\\Modelica\\package.mo\n",
      "True: \\Users\\matthis.thorade\\Documents\\Dymola\\ModelicaStandardLibrary\\ModelicaServices\\package.mo\n",
      "True: \\Users\\matthis.thorade\\Documents\\Dymola\\ModelicaStandardLibrary\\ModelicaTest\\package.mo\n",
      "True: \\Users\\matthis.thorade\\Documents\\Dymola\\MWE\\TestMWE\\package.mo\n"
     ]
    }
   ],
   "source": [
    "# imports\n",
    "import os\n",
    "import sys\n",
    "import webbrowser\n",
    "import matplotlib.pyplot as plt\n",
    "\n",
    "import pymodelica\n",
    "from pymodelica import compile_fmu\n",
    "from pyfmi import load_fmu\n",
    "from oct.steadystate.nlesol import FMUProblem, Solver, SolverOptions\n",
    "\n",
    "# paths\n",
    "homeDir = os.environ['HOMEPATH']\n",
    "jmodDir = os.environ['JMODELICA_HOME']\n",
    "dodyDir = os.path.join(homeDir, \"Documents\", \"Dymola\")\n",
    "\n",
    "# give the path to directory where package.mo is stored\n",
    "moLibs = [os.path.join(dodyDir, \"ModelicaStandardLibrary\", \"Modelica\"),\n",
    "          os.path.join(dodyDir, \"ModelicaStandardLibrary\", \"ModelicaServices\"),\n",
    "          os.path.join(dodyDir, \"ModelicaStandardLibrary\", \"ModelicaTest\"),\n",
    "          os.path.join(dodyDir, \"MWE\", \"TestMWE\"),\n",
    "         ]\n",
    "\n",
    "\n",
    "print(sys.version)\n",
    "print pymodelica.__version__\n",
    "print(\"=\"*76)\n",
    "print(os.getcwd())\n",
    "for moLib in moLibs:\n",
    "    if moLib.endswith(\"mo\"):\n",
    "        print(str(os.path.isfile(moLib)) + \": \" + moLib)\n",
    "    else:        \n",
    "        print(str(os.path.isfile(os.path.join(moLib, \"package.mo\"))) + \": \" + os.path.join(moLib, \"package.mo\"))"
   ]
  },
  {
   "cell_type": "code",
   "execution_count": 2,
   "metadata": {},
   "outputs": [
    {
     "name": "stdout",
     "output_type": "stream",
     "text": [
      "C:\\Users\\matthis.thorade\\Documents\\git\\jupyterNotebooks\\OCT\\.\\TestMWE_BranchingDynamicPipes.fmu\n"
     ]
    }
   ],
   "source": [
    "# compile model to fmu\n",
    "model_name = 'TestMWE.BranchingDynamicPipes'\n",
    "my_fmu = compile_fmu(model_name, \n",
    "                     moLibs, \n",
    "                     compiler_log_level='verbose:compilerlog.txt',\n",
    "                     compiler_options={\"generate_html_diagnostics\":\"true\"} , \n",
    "                    )\n",
    "print(my_fmu)"
   ]
  },
  {
   "cell_type": "code",
   "execution_count": 3,
   "metadata": {},
   "outputs": [
    {
     "name": "stdout",
     "output_type": "stream",
     "text": [
      "True: C:\\Users\\matthis.thorade\\Documents\\git\\jupyterNotebooks\\OCT\\TestMWE_BranchingDynamicPipes_html_diagnostics\\index.html\n"
     ]
    },
    {
     "data": {
      "text/plain": [
       "True"
      ]
     },
     "execution_count": 3,
     "metadata": {},
     "output_type": "execute_result"
    }
   ],
   "source": [
    "# open html diagnostics index\n",
    "url = os.path.join(os.getcwd(), model_name.replace('.','_') + \"_html_diagnostics\", \"index.html\")\n",
    "print(str(os.path.isfile(url)) + \": \" + url)\n",
    "webbrowser.open(url,new=2)"
   ]
  },
  {
   "cell_type": "code",
   "execution_count": 4,
   "metadata": {},
   "outputs": [
    {
     "name": "stdout",
     "output_type": "stream",
     "text": [
      "Final Run Statistics: --- \n",
      "\n",
      " Number of steps                                 : 501\n",
      " Number of function evaluations                  : 505\n",
      " Number of Jacobian evaluations                  : 9\n",
      " Number of function eval. due to Jacobian eval.  : 0\n",
      " Number of error test failures                   : 0\n",
      " Number of nonlinear iterations                  : 501\n",
      " Number of nonlinear convergence failures        : 0\n",
      " Number of state function evaluations            : 502\n",
      "\n",
      "Solver options:\n",
      "\n",
      " Solver                   : CVode\n",
      " Linear multistep method  : BDF\n",
      " Nonlinear solver         : Newton\n",
      " Linear solver type       : DENSE\n",
      " Maximal order            : 5\n",
      " Tolerances (absolute)    : 1e-06\n",
      " Tolerances (relative)    : 1e-06\n",
      "\n",
      "Simulation interval    : 0.0 - 1.0 seconds.\n",
      "Elapsed simulation time: 1.9177959 seconds.\n"
     ]
    }
   ],
   "source": [
    "# simulate the fmu and store results\n",
    "myModel = load_fmu(my_fmu)\n",
    "\n",
    "opts = myModel.simulate_options()\n",
    "opts['solver'] = \"CVode\"\n",
    "opts['ncp'] = 500\n",
    "opts['result_handling']=\"file\"\n",
    "opts[\"CVode_options\"]['discr'] = 'BDF'\n",
    "opts['CVode_options']['iter'] = 'Newton'\n",
    "opts['CVode_options']['maxord'] = 5\n",
    "opts['CVode_options']['atol'] = 1e-6\n",
    "opts['CVode_options']['rtol'] = 1e-6\n",
    "\n",
    "res = myModel.simulate(start_time=0, final_time=1, options=opts)"
   ]
  },
  {
   "cell_type": "code",
   "execution_count": null,
   "metadata": {},
   "outputs": [],
   "source": [
    "# plot all states\n",
    "time = 'time'\n",
    "state_vars = myModel.get_states_list()\n",
    "print(list(state_vars))\n",
    "\n",
    "x = res[time]\n",
    "for varname in state_vars:\n",
    "    y = res[varname]\n",
    "    plt.plot(x, y)\n",
    "    plt.xlabel('Time (s)')\n",
    "    plt.ylabel(varname)\n",
    "    plt.savefig(varname.replace('.','_')+'.pdf')\n",
    "    plt.show()"
   ]
  }
 ],
 "metadata": {
  "kernelspec": {
   "display_name": "Python 2",
   "language": "python",
   "name": "python2"
  },
  "language_info": {
   "codemirror_mode": {
    "name": "ipython",
    "version": 2
   },
   "file_extension": ".py",
   "mimetype": "text/x-python",
   "name": "python",
   "nbconvert_exporter": "python",
   "pygments_lexer": "ipython2",
   "version": "2.7.13"
  },
  "toc": {
   "base_numbering": 1,
   "nav_menu": {},
   "number_sections": true,
   "sideBar": true,
   "skip_h1_title": false,
   "title_cell": "Table of Contents",
   "title_sidebar": "Contents",
   "toc_cell": false,
   "toc_position": {},
   "toc_section_display": true,
   "toc_window_display": false
  }
 },
 "nbformat": 4,
 "nbformat_minor": 2
}
