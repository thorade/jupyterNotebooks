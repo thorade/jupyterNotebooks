{
 "cells": [
  {
   "cell_type": "markdown",
   "metadata": {},
   "source": [
    "All credits for these algorithms go to:\n",
    "https://blog.iconfinder.com/detecting-duplicate-images-using-python-cb240b05a3b6\n",
    "https://en.wikipedia.org/wiki/Hamming_distance#Algorithm_example"
   ]
  },
  {
   "cell_type": "code",
   "execution_count": 1,
   "metadata": {},
   "outputs": [],
   "source": [
    "def dhash(image, hash_size = 32):\n",
    "    # Grayscale and shrink the image in one step.\n",
    "    image = image.convert('L').resize((hash_size + 1, hash_size), Image.ANTIALIAS, )\n",
    "\n",
    "    pixels = list(image.getdata())\n",
    "\n",
    "    # Compare adjacent pixels.\n",
    "    difference = []\n",
    "    for row in range(hash_size):\n",
    "        for col in range(hash_size):\n",
    "            pixel_left = image.getpixel((col, row))\n",
    "            pixel_right = image.getpixel((col + 1, row))\n",
    "            difference.append(pixel_left > pixel_right)\n",
    "\n",
    "    # Convert the binary array to a hexadecimal string.\n",
    "    decimal_value = 0\n",
    "    hex_string = []\n",
    "    for index, value in enumerate(difference):\n",
    "        if value:\n",
    "            decimal_value += 2**(index % 8)\n",
    "        if (index % 8) == 7:\n",
    "            hex_string.append(hex(decimal_value)[2:].rjust(2, '0'))\n",
    "            decimal_value = 0\n",
    "\n",
    "    return ''.join(hex_string)"
   ]
  },
  {
   "cell_type": "code",
   "execution_count": 2,
   "metadata": {},
   "outputs": [],
   "source": [
    "def hamming_distance(s1, s2):\n",
    "    \"\"\"Return the Hamming distance between equal-length sequences\"\"\"\n",
    "    if len(s1) != len(s2):\n",
    "        raise ValueError(\"Undefined for sequences of unequal length\")\n",
    "    return sum(el1 != el2 for el1, el2 in zip(s1, s2))"
   ]
  },
  {
   "cell_type": "code",
   "execution_count": 3,
   "metadata": {},
   "outputs": [],
   "source": [
    "from PIL import Image\n",
    "test1 = Image.open('test1.jpg')\n",
    "test2 = Image.open('test2.jpg')\n",
    "test3 = Image.open('test3.jpg')\n",
    "test4 = Image.open('test4.jpg')"
   ]
  },
  {
   "cell_type": "code",
   "execution_count": 4,
   "metadata": {},
   "outputs": [
    {
     "name": "stdout",
     "output_type": "stream",
     "text": [
      "802ff2b20004d3f4e47ffc1b677eb7381395cf348371ee2ca38dcb2d3b059b257b8cbb28eb81e928fb1fc8691b109a232b18ae23db148e0f1b1c9b4cb303374ccb8743231fc8470a7bd16d0e03b7b232069f92097e6e9d1d32d84e2002fdef21c6af1f3956325f38c6195a1cc61dbd41730df760ff5b00003c81320160e1b701\n",
      "803ff2a20000d3f4e67ffc1b677eb7301395cf348331ee2ca38dcb2d3b059b257b8cbb28eb81e928fb1fc8691b109a23ab19ae23db148e0f1b1c9b4cb303170ccb8743231fc8470a7bd1650e03b7b232069f960d7e6e9d1d32d84e2102fdef21c6af1f3856325f38c6195a19c61dbd41730df760fd5b00003c81320160e19701\n",
      "802ff6b30000f3f4e47ffc1b677eb7301395cf348335ee2ca38dcb2d3b059b257b8cbb28eb81ed28fb1fc6691b3086232b19ae23db148e0f1b1c9b4cb383170ccb8743231fc8570a7bd16d0e03b7b232069d96093e6e9d1d32d84a2002fdef21c6af1f3956325f38c6195a1cc61dbd41730df760ff5b00003c81360160f19701\n",
      "90609ce3900497d3ac24dfd3ec2cdfc3d926cfd39062cfb34671cfb34530cff3943ceff3943ceff34838eff358bcaff974deecdb75dac9d9705accd97008cef93d08cef93589ccf93cc9ccf93dcdccf938cfc6f918cff3f918e7b1fb18e7b5f21873b4fc1869bafecc68bbbccc69bfbd67499dff650c953f260d91b725ad899b\n"
     ]
    }
   ],
   "source": [
    "dash1 = dhash(test1)\n",
    "dash2 = dhash(test2)\n",
    "dash3 = dhash(test3)\n",
    "dash4 = dhash(test4)\n",
    "print(dash1)\n",
    "print(dash2)\n",
    "print(dash3)\n",
    "print(dash4)"
   ]
  },
  {
   "cell_type": "code",
   "execution_count": 5,
   "metadata": {},
   "outputs": [
    {
     "name": "stdout",
     "output_type": "stream",
     "text": [
      "18\n",
      "24\n",
      "26\n",
      "242\n"
     ]
    }
   ],
   "source": [
    "dis12 = hamming_distance(dash1, dash2)\n",
    "dis13 = hamming_distance(dash1, dash3)\n",
    "dis23 = hamming_distance(dash2, dash3)\n",
    "dis24 = hamming_distance(dash2, dash4)\n",
    "print(dis12)\n",
    "print(dis13)\n",
    "print(dis23)\n",
    "print(dis24)"
   ]
  },
  {
   "cell_type": "code",
   "execution_count": null,
   "metadata": {},
   "outputs": [],
   "source": []
  }
 ],
 "metadata": {
  "kernelspec": {
   "display_name": "Python 3",
   "language": "python",
   "name": "python3"
  },
  "language_info": {
   "codemirror_mode": {
    "name": "ipython",
    "version": 3
   },
   "file_extension": ".py",
   "mimetype": "text/x-python",
   "name": "python",
   "nbconvert_exporter": "python",
   "pygments_lexer": "ipython3",
   "version": "3.6.4"
  }
 },
 "nbformat": 4,
 "nbformat_minor": 2
}
