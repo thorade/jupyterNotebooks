{
 "cells": [
  {
   "cell_type": "markdown",
   "metadata": {},
   "source": [
    "All credits for these algorithms go to:  \n",
    "https://blog.iconfinder.com/detecting-duplicate-images-using-python-cb240b05a3b6  \n",
    "http://www.hackerfactor.com/blog/index.php?/archives/529-Kind-of-Like-That.html  \n",
    "https://en.wikipedia.org/wiki/Hamming_distance#Algorithm_example"
   ]
  },
  {
   "cell_type": "code",
   "execution_count": 1,
   "metadata": {},
   "outputs": [],
   "source": [
    "def dhash(image, hash_size = 16):\n",
    "    # Grayscale and shrink the image in one step.\n",
    "    image = image.convert('L').resize((hash_size + 1, hash_size), Image.ANTIALIAS, )\n",
    "\n",
    "    pixels = list(image.getdata())\n",
    "\n",
    "    # Compare adjacent pixels.\n",
    "    difference = []\n",
    "    for row in range(hash_size):\n",
    "        for col in range(hash_size):\n",
    "            pixel_left = image.getpixel((col, row))\n",
    "            pixel_right = image.getpixel((col + 1, row))\n",
    "            difference.append(pixel_left > pixel_right)\n",
    "\n",
    "    # Convert the binary array to a hexadecimal string.\n",
    "    decimal_value = 0\n",
    "    hex_string = []\n",
    "    for index, value in enumerate(difference):\n",
    "        if value:\n",
    "            decimal_value += 2**(index % 8)\n",
    "        if (index % 8) == 7:\n",
    "            hex_string.append(hex(decimal_value)[2:].rjust(2, '0'))\n",
    "            decimal_value = 0\n",
    "\n",
    "    return ''.join(hex_string)"
   ]
  },
  {
   "cell_type": "code",
   "execution_count": 2,
   "metadata": {},
   "outputs": [],
   "source": [
    "def hamming_distance(s1, s2):\n",
    "    \"\"\"Return the Hamming distance between equal-length sequences\"\"\"\n",
    "    if len(s1) != len(s2):\n",
    "        raise ValueError(\"Undefined for sequences of unequal length\")\n",
    "    return sum(el1 != el2 for el1, el2 in zip(s1, s2))"
   ]
  },
  {
   "cell_type": "code",
   "execution_count": 8,
   "metadata": {},
   "outputs": [
    {
     "name": "stdout",
     "output_type": "stream",
     "text": [
      "1006 KB\n"
     ]
    }
   ],
   "source": [
    "import os\n",
    "from PIL import Image\n",
    "test1 = Image.open('test1.jpg')\n",
    "test2 = Image.open('test2.jpg')\n",
    "test3 = Image.open('test3.jpg')\n",
    "test4 = Image.open('test4.jpg')\n",
    "\n",
    "print(int(round(os.path.getsize('test1.jpg')/1024)), \"KB\")"
   ]
  },
  {
   "cell_type": "code",
   "execution_count": 4,
   "metadata": {},
   "outputs": [
    {
     "name": "stdout",
     "output_type": "stream",
     "text": [
      "78bce34f414bb54fbd4c7f5e273337239f65f3457312e143f947690e2f0dc603\n",
      "78bce34f414bb54fbd4c7f5e273337239f65e3457312e1437947690e2f0dc603\n",
      "38bce34f414b954fbd4d7f5a273337239f65e34d7312e5437947690e2f0dc601\n",
      "12d22e924293499b64db64dba4da24da26daa6dab2d992dcd2f44af769f73871\n"
     ]
    }
   ],
   "source": [
    "dash1 = dhash(test1)\n",
    "dash2 = dhash(test2)\n",
    "dash3 = dhash(test3)\n",
    "dash4 = dhash(test4)\n",
    "print(dash1)\n",
    "print(dash2)\n",
    "print(dash3)\n",
    "print(dash4)"
   ]
  },
  {
   "cell_type": "code",
   "execution_count": 5,
   "metadata": {},
   "outputs": [
    {
     "name": "stdout",
     "output_type": "stream",
     "text": [
      "2\n",
      "9\n",
      "7\n",
      "63\n"
     ]
    }
   ],
   "source": [
    "dis12 = hamming_distance(dash1, dash2)\n",
    "dis13 = hamming_distance(dash1, dash3)\n",
    "dis23 = hamming_distance(dash2, dash3)\n",
    "dis24 = hamming_distance(dash2, dash4)\n",
    "print(dis12)\n",
    "print(dis13)\n",
    "print(dis23)\n",
    "print(dis24)"
   ]
  },
  {
   "cell_type": "code",
   "execution_count": null,
   "metadata": {},
   "outputs": [],
   "source": []
  }
 ],
 "metadata": {
  "kernelspec": {
   "display_name": "Python 3",
   "language": "python",
   "name": "python3"
  },
  "language_info": {
   "codemirror_mode": {
    "name": "ipython",
    "version": 3
   },
   "file_extension": ".py",
   "mimetype": "text/x-python",
   "name": "python",
   "nbconvert_exporter": "python",
   "pygments_lexer": "ipython3",
   "version": "3.6.4"
  }
 },
 "nbformat": 4,
 "nbformat_minor": 2
}
