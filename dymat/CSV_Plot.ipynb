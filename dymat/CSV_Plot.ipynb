{
 "cells": [
  {
   "cell_type": "code",
   "execution_count": 1,
   "metadata": {},
   "outputs": [
    {
     "name": "stdout",
     "output_type": "stream",
     "text": [
      "PID_Controller.mat\n"
     ]
    }
   ],
   "source": [
    "import os\n",
    "import DyMat\n",
    "from matplotlib import pyplot as plt\n",
    "import pandas as pd\n",
    "\n",
    "# model name: in Dymola Package Browser right click and copy path\n",
    "pacnam = \"Modelica.Blocks.Examples.PID_Controller\"\n",
    "modnam = pacnam.rsplit('.',1)[1]\n",
    "\n",
    "# read mat file using dymat\n",
    "if os.path.isfile(modnam + '.mat'):\n",
    "    myFile = DyMat.DyMatFile(modnam + '.mat')\n",
    "    print(modnam + '.mat')\n",
    "    # print(sorted(res.names()))"
   ]
  },
  {
   "cell_type": "code",
   "execution_count": 2,
   "metadata": {},
   "outputs": [],
   "source": [
    "# define variables of interest\n",
    "varNames = ['spring.tau', 'inertia1.w']\n",
    "\n",
    "# creat empty dict for storing values\n",
    "res = dict()\n",
    "\n",
    "# copy time from any variable\n",
    "res['time'] = myFile.abscissa(varNames[0], valuesOnly=True)\n",
    "\n",
    "# copy var values\n",
    "for varName in varNames:\n",
    "    res[varName] = myFile.data(varName)\n",
    "    \n",
    "# save as csv using pandas\n",
    "pd.DataFrame(res).to_csv(modnam + '.csv', index=False)"
   ]
  },
  {
   "cell_type": "code",
   "execution_count": 3,
   "metadata": {},
   "outputs": [
    {
     "data": {
      "text/plain": [
       "<Figure size 432x288 with 0 Axes>"
      ]
     },
     "metadata": {},
     "output_type": "display_data"
    }
   ],
   "source": [
    "# Figure 1\n",
    "x = res['time']\n",
    "y = res[varNames[0]]\n",
    "plt.plot(x,y, color='green', linestyle='none', marker='o', markerfacecolor='blue', markersize=2)\n",
    "plt.xlabel('Time')\n",
    "plt.ylabel(varNames[0])\n",
    "plt.savefig(modnam + '.pdf')\n",
    "plt.clf()"
   ]
  }
 ],
 "metadata": {
  "kernelspec": {
   "display_name": "Python 3",
   "language": "python",
   "name": "python3"
  },
  "language_info": {
   "codemirror_mode": {
    "name": "ipython",
    "version": 3
   },
   "file_extension": ".py",
   "mimetype": "text/x-python",
   "name": "python",
   "nbconvert_exporter": "python",
   "pygments_lexer": "ipython3",
   "version": "3.6.5"
  }
 },
 "nbformat": 4,
 "nbformat_minor": 2
}
