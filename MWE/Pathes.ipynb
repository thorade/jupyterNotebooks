{
 "cells": [
  {
   "cell_type": "code",
   "execution_count": null,
   "metadata": {
    "collapsed": true
   },
   "outputs": [],
   "source": [
    "import os,sys\n",
    "try:\n",
    "    osenv_pypath = os.environ['PYTHONPATH'].split(os.pathsep)\n",
    "    osenv_path = os.environ['PATH'].split(os.pathsep)\n",
    "    sys_path = sys.path.split(os.pathsep)\n",
    "except KeyError:\n",
    "    osenv_pypath = []\n",
    "    osenv_path = []\n",
    "    sys_path = []\n",
    "\n",
    "print(osenv_pypath)\n",
    "print(osenv_path)\n",
    "print(sys_path)\n"
   ]
  },
  {
   "cell_type": "code",
   "execution_count": null,
   "metadata": {
    "collapsed": true
   },
   "outputs": [],
   "source": [
    "import os\n",
    "print(os.name)\n",
    "\n",
    "import platform\n",
    "print(platform.system())\n",
    "print(platform.release())\n",
    "\n",
    "import sys\n",
    "if sys.platform.lower().startswith('linux'):\n",
    "    print(sys.platform)\n",
    "elif sys.platform.lower().startswith('win'):\n",
    "    print(sys.platform)\n",
    "    print(sys.version)\n",
    "else:\n",
    "    pass"
   ]
  },
  {
   "cell_type": "code",
   "execution_count": null,
   "metadata": {
    "collapsed": true
   },
   "outputs": [],
   "source": [
    "import os\n",
    "key = 'Python'\n",
    "envpath = os.getenv('PATH')\n",
    "envpaths = envpath.split(';')\n",
    "print(envpath)\n",
    "# path_Python = next((s for s in envpaths if key in s), None)\n",
    "# print(path_Python)"
   ]
  },
  {
   "cell_type": "code",
   "execution_count": null,
   "metadata": {},
   "outputs": [],
   "source": [
    "import os, sys\n",
    "print(sys.version)\n",
    "print(sys.executable)\n",
    "print(os.__file__)\n",
    "print(sys.path)"
   ]
  },
  {
   "cell_type": "code",
   "execution_count": null,
   "metadata": {
    "collapsed": true
   },
   "outputs": [],
   "source": []
  }
 ],
 "metadata": {
  "kernelspec": {
   "display_name": "Python 3",
   "language": "python",
   "name": "python3"
  },
  "language_info": {
   "codemirror_mode": {
    "name": "ipython",
    "version": 3
   },
   "file_extension": ".py",
   "mimetype": "text/x-python",
   "name": "python",
   "nbconvert_exporter": "python",
   "pygments_lexer": "ipython3",
   "version": "3.6.3"
  }
 },
 "nbformat": 4,
 "nbformat_minor": 1
}
