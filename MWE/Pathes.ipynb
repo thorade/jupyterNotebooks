{
 "cells": [
  {
   "cell_type": "code",
   "execution_count": 7,
   "metadata": {},
   "outputs": [
    {
     "name": "stdout",
     "output_type": "stream",
     "text": [
      "[]\n",
      "[]\n",
      "[]\n"
     ]
    }
   ],
   "source": [
    "import os,sys\n",
    "try:\n",
    "    osenv_pypath = os.environ['PYTHONPATH'].split(os.pathsep)\n",
    "    osenv_path = os.environ['PATH'].split(os.pathsep)\n",
    "    sys_path = sys.path.split(os.pathsep)\n",
    "except KeyError:\n",
    "    osenv_pypath = []\n",
    "    osenv_path = []\n",
    "    sys_path = []\n",
    "\n",
    "print(osenv_pypath)\n",
    "print(osenv_path)\n",
    "print(sys_path)\n"
   ]
  },
  {
   "cell_type": "code",
   "execution_count": 25,
   "metadata": {},
   "outputs": [
    {
     "name": "stdout",
     "output_type": "stream",
     "text": [
      "nt\n",
      "Windows\n",
      "8\n",
      "win32\n",
      "3.4.2 (v3.4.2:ab2c023a9432, Oct  6 2014, 22:16:31) [MSC v.1600 64 bit (AMD64)]\n"
     ]
    }
   ],
   "source": [
    "import os\n",
    "print(os.name)\n",
    "\n",
    "import platform\n",
    "print(platform.system())\n",
    "print(platform.release())\n",
    "\n",
    "import sys\n",
    "if sys.platform.lower().startswith('linux'):\n",
    "    print(sys.platform)\n",
    "elif sys.platform.lower().startswith('win'):\n",
    "    print(sys.platform)\n",
    "    print(sys.version)\n",
    "else:\n",
    "    pass"
   ]
  },
  {
   "cell_type": "code",
   "execution_count": 5,
   "metadata": {},
   "outputs": [
    {
     "name": "stdout",
     "output_type": "stream",
     "text": [
      "C:\\Users\\mthorade\\Documents\\Python\\WinPython-64bit-3.4.2.3\\python-3.4.2.amd64\\lib\\site-packages\\numpy\\core;C:\\Users\\mthorade\\Documents\\Python\\WinPython-64bit-3.4.2.3\\python-3.4.2.amd64\\Lib\\site-packages\\PyQt4;C:\\Users\\mthorade\\Documents\\Python\\WinPython-64bit-3.4.2.3\\python-3.4.2.amd64\\;C:\\Users\\mthorade\\Documents\\Python\\WinPython-64bit-3.4.2.3\\python-3.4.2.amd64\\DLLs;C:\\Users\\mthorade\\Documents\\Python\\WinPython-64bit-3.4.2.3\\python-3.4.2.amd64\\Scripts;C:\\Users\\mthorade\\Documents\\Python\\WinPython-64bit-3.4.2.3\\python-3.4.2.amd64\\..\\tools;C:\\Users\\mthorade\\Documents\\Python\\WinPython-64bit-3.4.2.3\\python-3.4.2.amd64\\..\\tools\\mingw32\\bin;C:\\Python34\\;C:\\Python34\\Scripts;C:\\Program Files (x86)\\CodeSynthesis XSD 4.0\\bin\\;C:\\Program Files (x86)\\CodeSynthesis XSD 4.0\\bin64\\;C:\\WINDOWS\\system32;C:\\WINDOWS;C:\\WINDOWS\\System32\\Wbem;C:\\WINDOWS\\System32\\WindowsPowerShell\\v1.0\\;C:\\Program Files (x86)\\Skype\\Phone\\;C:\\Program Files (x86)\\Windows Kits\\8.1\\Windows Performance Toolkit\\;C:\\Program Files\\Microsoft SQL Server\\110\\Tools\\Binn\\;C:\\Program Files (x86)\\Microsoft SDKs\\TypeScript\\1.0\\;C:\\Program Files\\Microsoft SQL Server\\120\\Tools\\Binn\\;C:\\Users\\mthorade\\.dnx\\bin;C:\\Program Files\\Microsoft DNX\\Dnvm\\;C:\\Program Files (x86)\\MiKTeX 2.9\\miktex\\bin\\;C:\\Program Files (x86)\\GnuWin32\\bin;C:\\Program Files\\Emscripten\\emscripten\\1.35.0;C:\\Program Files\\Emscripten;C:\\Program Files\\Emscripten\\clang\\e1.35.0_64bit;C:\\Program Files\\Emscripten\\node\\0.12.2_64bit;C:\\Program Files\\Emscripten\\python\\2.7.5.3_64bit;C:\\Program Files\\Emscripten\\java\\7.45_64bit\\bin;C:\\Program Files\\Emscripten\\crunch\\1.03;C:\\Program Files\\Emscripten\\mingw\\4.6.2_32bit;C:\\Program Files (x86)\\GtkSharp\\2.12\\bin;C:\\Program Files (x86)\\NVIDIA Corporation\\PhysX\\Common;C:\\WINDOWS\\system32;C:\\WINDOWS;C:\\WINDOWS\\System32\\Wbem;C:\\WINDOWS\\System32\\WindowsPowerShell\\v1.0\\;C:/Program Files (x86)/Dymola 2017/bin/Dymola.exe;C:\\Program Files (x86)\\GitExtensions\\;C:\\Users\\mthorade\\AppData\\Local\\atom\\bin;C:\\Users\\mthorade\\AppData\\Local\\Pandoc\\;%USERPROFILE%\\AppData\\Local\\Microsoft\\WindowsApps;;\n"
     ]
    }
   ],
   "source": [
    "import os\n",
    "key = 'Python'\n",
    "envpath = os.getenv('PATH')\n",
    "envpaths = envpath.split(';')\n",
    "print(envpath)\n",
    "# path_Python = next((s for s in envpaths if key in s), None)\n",
    "# print(path_Python)"
   ]
  },
  {
   "cell_type": "code",
   "execution_count": null,
   "metadata": {},
   "outputs": [],
   "source": []
  }
 ],
 "metadata": {
  "kernelspec": {
   "display_name": "Python 3",
   "language": "python",
   "name": "python3"
  },
  "language_info": {
   "codemirror_mode": {
    "name": "ipython",
    "version": 3
   },
   "file_extension": ".py",
   "mimetype": "text/x-python",
   "name": "python",
   "nbconvert_exporter": "python",
   "pygments_lexer": "ipython3",
   "version": "3.6.3"
  }
 },
 "nbformat": 4,
 "nbformat_minor": 1
}
