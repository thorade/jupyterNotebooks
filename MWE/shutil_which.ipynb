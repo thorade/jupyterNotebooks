{
 "cells": [
  {
   "cell_type": "code",
   "execution_count": 3,
   "metadata": {
    "scrolled": true
   },
   "outputs": [
    {
     "name": "stdout",
     "output_type": "stream",
     "text": [
      "3.5.1 (v3.5.1:37a07cee5969, Dec  6 2015, 01:38:48) [MSC v.1900 32 bit (Intel)]\n",
      "C:\\Users\\mthorade\\Documents\\Python\\WinPython-32bit-3.5.1.2\\notebooks\\BuildingsPy\n"
     ]
    }
   ],
   "source": [
    "import sys\n",
    "import os\n",
    "print(sys.version)\n",
    "print(os.getcwd())"
   ]
  },
  {
   "cell_type": "markdown",
   "metadata": {},
   "source": [
    "https://docs.python.org/3/howto/pyporting.html#use-feature-detection-instead-of-version-detection  \n",
    "https://docs.python.org/3/library/shutil.html#shutil.which  \n",
    "shutil.which was added in 3.3"
   ]
  },
  {
   "cell_type": "code",
   "execution_count": 1,
   "metadata": {},
   "outputs": [
    {
     "name": "stdout",
     "output_type": "stream",
     "text": [
      "C:\\Users\\mthorade\\Documents\\Python\\WinPython-32bit-3.5.1.2\\python-3.5.1\\python.EXE\n",
      "C:\\Program Files (x86)\\Dymola 2017 FD01\\bin\\dymola.EXE\n",
      "C:\\Program Files (x86)\\Git\\bin\\git.EXE\n",
      "None\n",
      "C:\\Program Files (x86)\\Microsoft Visual Studio 14.0\\VC\\bin\\cl.EXE\n",
      "C:\\Program Files\\CMake\\bin\\cmake.EXE\n"
     ]
    }
   ],
   "source": [
    "try:\n",
    "    from shutil import which\n",
    "    print(which(\"python\"))\n",
    "    print(which(\"dymola\"))\n",
    "    print(which(\"git\"))\n",
    "    print(which(\"tidy\"))\n",
    "    print(which(\"cl\"))\n",
    "    print(which(\"cmake\"))\n",
    "except ImportError:\n",
    "    pass"
   ]
  },
  {
   "cell_type": "code",
   "execution_count": null,
   "metadata": {
    "collapsed": true
   },
   "outputs": [],
   "source": []
  },
  {
   "cell_type": "code",
   "execution_count": null,
   "metadata": {
    "collapsed": true
   },
   "outputs": [],
   "source": []
  }
 ],
 "metadata": {
  "kernelspec": {
   "display_name": "Python 3",
   "language": "python",
   "name": "python3"
  },
  "language_info": {
   "codemirror_mode": {
    "name": "ipython",
    "version": 3
   },
   "file_extension": ".py",
   "mimetype": "text/x-python",
   "name": "python",
   "nbconvert_exporter": "python",
   "pygments_lexer": "ipython3",
   "version": "3.6.3"
  }
 },
 "nbformat": 4,
 "nbformat_minor": 1
}
