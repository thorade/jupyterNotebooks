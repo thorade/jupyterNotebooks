{
 "cells": [
  {
   "cell_type": "markdown",
   "metadata": {},
   "source": [
    "* https://stackoverflow.com/a/17141572/874701  \n",
    "* https://docs.python.org/3/tutorial/datastructures.html  \n",
    "* https://python-future.org/compatible_idioms.html#iterating-through-dict-keys-values-items"
   ]
  },
  {
   "cell_type": "code",
   "execution_count": 1,
   "metadata": {},
   "outputs": [
    {
     "name": "stdout",
     "output_type": "stream",
     "text": [
      "\\Users\\matthis.thorade\\Documents\\Dymola\\HelmholtzMedia\\HelmholtzMedia\n",
      "0.7649563 seconds\n"
     ]
    }
   ],
   "source": [
    "import os\n",
    "from timeit import time\n",
    "\n",
    "homeDir = os.environ['HOMEPATH']\n",
    "doDyDir = os.path.join(homeDir, \"Documents\", \"Dymola\")\n",
    "topSearchDir = os.path.join(doDyDir, \"HelmholtzMedia\", \"HelmholtzMedia\")\n",
    "print(topSearchDir)\n",
    "\n",
    "# search for keys, replace with values\n",
    "srDict = dict()\n",
    "srDict = {\"Ancillary\": \"Auxiliary\",\n",
    "          \"Coefficients\": \"Coeffs\"}\n",
    "\n",
    "startTime = time.clock()\n",
    "for root, dirs, files in os.walk(topSearchDir):\n",
    "    for file in files:\n",
    "        filPat = os.path.join(root, file)\n",
    "        if filPat.endswith('mo'):\n",
    "            # read file into memory\n",
    "            with open(filPat, mode=\"r\") as fil:\n",
    "                filDat = fil.read()\n",
    "                \n",
    "            # do a search and replace\n",
    "            for (kSearch, vReplace) in srDict.items():\n",
    "                filDat = filDat.replace(kSearch, vReplace)\n",
    "                \n",
    "            # write back to file\n",
    "            with open(filPat, mode=\"w\") as fil:\n",
    "                fil.write(filDat)\n",
    "                \n",
    "stopTime = time.clock()\n",
    "print(\"{} seconds\".format(stopTime-startTime))"
   ]
  },
  {
   "cell_type": "code",
   "execution_count": null,
   "metadata": {},
   "outputs": [],
   "source": []
  }
 ],
 "metadata": {
  "kernelspec": {
   "display_name": "Python 2",
   "language": "python",
   "name": "python2"
  },
  "language_info": {
   "codemirror_mode": {
    "name": "ipython",
    "version": 2
   },
   "file_extension": ".py",
   "mimetype": "text/x-python",
   "name": "python",
   "nbconvert_exporter": "python",
   "pygments_lexer": "ipython2",
   "version": "2.7.13"
  }
 },
 "nbformat": 4,
 "nbformat_minor": 2
}
