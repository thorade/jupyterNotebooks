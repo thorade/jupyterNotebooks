{
 "cells": [
  {
   "cell_type": "code",
   "execution_count": 19,
   "metadata": {},
   "outputs": [
    {
     "name": "stdout",
     "output_type": "stream",
     "text": [
      "\\Users\\matthis.thorade\\Documents\\Dymola\n",
      "Found b'\\x99' in file: \\Users\\matthis.thorade\\Documents\\Dymola\\BuildingSystems\\BuildingSystems\\Technologies\\ElectricalStorages\\BatterySimple.mo\n"
     ]
    }
   ],
   "source": [
    "import os\n",
    "\n",
    "homeDir = os.environ['HOMEPATH']\n",
    "moLibsDir = os.path.join(homeDir, \"Documents\", \"Dymola\")\n",
    "print(moLibsDir)\n",
    "ibpsaDir = os.path.join(moLibsDir, \"modelica-ibpsa\", \"IBPSA\")\n",
    "buildingSystemsDir = os.path.join(moLibsDir, \"BuildingSystems\", \"BuildingSystems\")\n",
    "\n",
    "searchString = b\"\\x99\"\n",
    "\n",
    "for root, dirs, files in os.walk(buildingSystemsDir):\n",
    "    for file in files:\n",
    "        filPat = os.path.join(root, file)\n",
    "        if filPat.endswith('mo'):\n",
    "            with open(filPat, mode=\"rb\") as fil:\n",
    "                for line in fil:\n",
    "                    if searchString in line:\n",
    "                        print(\"Found {} in file: {}\".format(searchString, filPat))"
   ]
  },
  {
   "cell_type": "code",
   "execution_count": 20,
   "metadata": {},
   "outputs": [
    {
     "name": "stdout",
     "output_type": "stream",
     "text": [
      "™\n"
     ]
    }
   ],
   "source": [
    "print(b'\\x99'.decode('cp1252'))"
   ]
  },
  {
   "cell_type": "code",
   "execution_count": null,
   "metadata": {},
   "outputs": [],
   "source": []
  }
 ],
 "metadata": {
  "kernelspec": {
   "display_name": "Python 3",
   "language": "python",
   "name": "python3"
  },
  "language_info": {
   "codemirror_mode": {
    "name": "ipython",
    "version": 3
   },
   "file_extension": ".py",
   "mimetype": "text/x-python",
   "name": "python",
   "nbconvert_exporter": "python",
   "pygments_lexer": "ipython3",
   "version": "3.6.5"
  }
 },
 "nbformat": 4,
 "nbformat_minor": 2
}
