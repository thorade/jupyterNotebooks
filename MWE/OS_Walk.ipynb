{
 "cells": [
  {
   "cell_type": "markdown",
   "metadata": {},
   "source": [
    "* https://stackoverflow.com/questions/3217334/python-searching-reading-binary-data\n",
    "* https://stackoverflow.com/questions/3961265/get-line-number-of-certain-phrase-in-file-python"
   ]
  },
  {
   "cell_type": "code",
   "execution_count": 10,
   "metadata": {},
   "outputs": [
    {
     "name": "stdout",
     "output_type": "stream",
     "text": [
      "Found 0 occurences of b'\\x80'\n"
     ]
    }
   ],
   "source": [
    "import os\n",
    "\n",
    "homeDir = os.environ['HOMEPATH']\n",
    "moLibsDir = os.path.join(homeDir, \"Documents\", \"Dymola\")\n",
    "ibpsaDir = os.path.join(moLibsDir, \"modelica-ibpsa\", \"IBPSA\")\n",
    "buildingSystemsDir = os.path.join(moLibsDir, \"BuildingSystems\", \"BuildingSystems\")\n",
    "\n",
    "# – ’ b\"\\x99\" b\"\\xe2\" b\"\\x93\" b\"\\x80\" b\"\\x94\"\n",
    "searchString = b\"\\x80\"\n",
    "\n",
    "occ=0\n",
    "for root, dirs, files in os.walk(ibpsaDir):\n",
    "    for file in files:\n",
    "        filPat = os.path.join(root, file)\n",
    "        if filPat.endswith('mo'):\n",
    "            with open(filPat, mode=\"rb\") as fil:\n",
    "                for num, line in enumerate(fil, 1):\n",
    "                    if searchString in line:\n",
    "                        occ = occ+1\n",
    "                        print(\"file: {}\".format(filPat))\n",
    "                        print(\"line {}: {}\\n\".format(num, line))\n",
    "print(\"Found {} occurences of {}\".format(occ, searchString))"
   ]
  },
  {
   "cell_type": "code",
   "execution_count": 9,
   "metadata": {},
   "outputs": [
    {
     "name": "stdout",
     "output_type": "stream",
     "text": [
      "™\n"
     ]
    },
    {
     "ename": "UnicodeDecodeError",
     "evalue": "'utf-8' codec can't decode byte 0x99 in position 0: invalid start byte",
     "output_type": "error",
     "traceback": [
      "\u001b[1;31m---------------------------------------------------------------------------\u001b[0m",
      "\u001b[1;31mUnicodeDecodeError\u001b[0m                        Traceback (most recent call last)",
      "\u001b[1;32m<ipython-input-9-48000493aa51>\u001b[0m in \u001b[0;36m<module>\u001b[1;34m()\u001b[0m\n\u001b[0;32m      1\u001b[0m \u001b[0mprint\u001b[0m\u001b[1;33m(\u001b[0m\u001b[1;34mb'\\x99'\u001b[0m\u001b[1;33m.\u001b[0m\u001b[0mdecode\u001b[0m\u001b[1;33m(\u001b[0m\u001b[1;34m'cp1252'\u001b[0m\u001b[1;33m)\u001b[0m\u001b[1;33m)\u001b[0m\u001b[1;33m\u001b[0m\u001b[0m\n\u001b[1;32m----> 2\u001b[1;33m \u001b[0mprint\u001b[0m\u001b[1;33m(\u001b[0m\u001b[1;34mb'\\x99'\u001b[0m\u001b[1;33m.\u001b[0m\u001b[0mdecode\u001b[0m\u001b[1;33m(\u001b[0m\u001b[1;34m'utf8'\u001b[0m\u001b[1;33m)\u001b[0m\u001b[1;33m)\u001b[0m\u001b[1;33m\u001b[0m\u001b[0m\n\u001b[0m",
      "\u001b[1;31mUnicodeDecodeError\u001b[0m: 'utf-8' codec can't decode byte 0x99 in position 0: invalid start byte"
     ]
    }
   ],
   "source": [
    "print(b'\\x99'.decode('cp1252'))\n",
    "print(b'\\x99'.decode('utf8'))"
   ]
  },
  {
   "cell_type": "code",
   "execution_count": null,
   "metadata": {},
   "outputs": [],
   "source": []
  }
 ],
 "metadata": {
  "kernelspec": {
   "display_name": "Python 3",
   "language": "python",
   "name": "python3"
  },
  "language_info": {
   "codemirror_mode": {
    "name": "ipython",
    "version": 3
   },
   "file_extension": ".py",
   "mimetype": "text/x-python",
   "name": "python",
   "nbconvert_exporter": "python",
   "pygments_lexer": "ipython3",
   "version": "3.6.5"
  }
 },
 "nbformat": 4,
 "nbformat_minor": 2
}
