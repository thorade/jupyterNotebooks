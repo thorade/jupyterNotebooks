{
 "cells": [
  {
   "cell_type": "markdown",
   "metadata": {},
   "source": [
    "* https://stackoverflow.com/questions/3217334/python-searching-reading-binary-data\n",
    "* https://stackoverflow.com/questions/3961265/get-line-number-of-certain-phrase-in-file-python"
   ]
  },
  {
   "cell_type": "code",
   "execution_count": 4,
   "metadata": {},
   "outputs": [
    {
     "name": "stdout",
     "output_type": "stream",
     "text": [
      "Found 0 occurences of \n"
     ]
    }
   ],
   "source": [
    "import os\n",
    "\n",
    "homeDir = os.environ['HOMEPATH']\n",
    "moLibsDir = os.path.join(homeDir, \"Documents\", \"Dymola\")\n",
    "ibpsaDir = os.path.join(moLibsDir, \"modelica-ibpsa\", \"IBPSA\")\n",
    "buildingSystemsDir = os.path.join(moLibsDir, \"BuildingSystems\", \"BuildingSystems\")\n",
    "\n",
    "BOM = b\"\\xef\\xbb\\xbf\"\n",
    "searchString = \"\\x99\"\n",
    "searchByte = searchString.encode(\"utf-8\")\n",
    "showGreaterThanAscii = False\n",
    "\n",
    "occ=0\n",
    "for root, dirs, files in os.walk(buildingSystemsDir):\n",
    "    for file in files:\n",
    "        filPat = os.path.join(root, file)\n",
    "        if filPat.endswith('mo'):\n",
    "            with open(filPat, mode=\"rb\") as fil:\n",
    "                for num, line in enumerate(fil, 1):\n",
    "                    if BOM in line:\n",
    "                        print(\"file: {}\".format(filPat))\n",
    "                        print(\"line {}: {}\\n\".format(num, line))\n",
    "                    if searchByte in line:\n",
    "                        occ = occ+1\n",
    "                        print(\"file: {}\".format(filPat))\n",
    "                        print(\"line {}: {}\\n\".format(num, line))\n",
    "                    for letter in line.decode(\"utf8\"):\n",
    "                        if showGreaterThanAscii and ord(letter) > 127:\n",
    "                            print(\"file: {}\".format(filPat))\n",
    "                            print(\"line {}: {}\\n\".format(num, line))\n",
    "print(\"Found {} occurences of {}\".format(occ, searchString))"
   ]
  },
  {
   "cell_type": "code",
   "execution_count": null,
   "metadata": {},
   "outputs": [],
   "source": [
    "text = \"°\"\n",
    "bString = text.encode(\"utf-8\")\n",
    "print(bString)\n",
    "print(bString.decode(\"utf-8\"))"
   ]
  }
 ],
 "metadata": {
  "kernelspec": {
   "display_name": "Python 3",
   "language": "python",
   "name": "python3"
  },
  "language_info": {
   "codemirror_mode": {
    "name": "ipython",
    "version": 3
   },
   "file_extension": ".py",
   "mimetype": "text/x-python",
   "name": "python",
   "nbconvert_exporter": "python",
   "pygments_lexer": "ipython3",
   "version": "3.6.8"
  }
 },
 "nbformat": 4,
 "nbformat_minor": 2
}
