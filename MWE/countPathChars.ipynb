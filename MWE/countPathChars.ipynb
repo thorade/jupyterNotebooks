{
 "cells": [
  {
   "cell_type": "code",
   "execution_count": 1,
   "metadata": {},
   "outputs": [
    {
     "name": "stdout",
     "output_type": "stream",
     "text": [
      "181 chars: C:\\Users\\matthis.thorade\\Documents\\Dymola\\modelica-ibpsa\\IBPSA\\Fluid\\Geothermal\\Borefields\\BaseClasses\\Boreholes\\BaseClasses\\Functions\\Validation\\convectionResistanceCircularPipe.mo\n",
      "182 chars: C:\\Users\\matthis.thorade\\Documents\\Dymola\\modelica-ibpsa\\IBPSA\\Fluid\\Geothermal\\Borefields\\BaseClasses\\HeatTransfer\\ThermalResponseFactors\\Examples\\cylindricalHeatSource_Integrand.mo\n",
      "Found 1571 files\n"
     ]
    }
   ],
   "source": [
    "import os\n",
    "\n",
    "homeDir = os.environ['HOMEPATH']\n",
    "moLibsDir = os.path.join(homeDir, \"Documents\", \"Dymola\")\n",
    "ibpsaDir = os.path.join(moLibsDir, \"modelica-ibpsa\", \"IBPSA\")\n",
    "buildingSystemsDir = os.path.join(moLibsDir, \"BuildingSystems\", \"BuildingSystems\")\n",
    "libDir = ibpsaDir\n",
    "\n",
    "fil = dict()\n",
    "if os.path.isfile(os.path.join(libDir, \"package.mo\")):\n",
    "    for (dirpath, dirnames, filenames) in os.walk(libDir):\n",
    "        for dirname in dirnames:\n",
    "            dirpathname = os.path.join(dirpath, dirname)\n",
    "            for filename in filenames:\n",
    "                filpathname = os.path.abspath(os.path.join(dirpathname, filename))                \n",
    "                if len(filpathname)>180:\n",
    "                    print(f\"{len(filpathname)} chars: {filpathname}\")\n",
    "                fil[filpathname] = len(filpathname)\n",
    "\n",
    "nFiles = len(fil)\n",
    "print(f\"Found {nFiles} files\")\n",
    "# print(fil)"
   ]
  },
  {
   "cell_type": "code",
   "execution_count": 3,
   "metadata": {},
   "outputs": [
    {
     "data": {
      "image/png": "[encoded data removed]",
      "text/plain": [
       "<Figure size 432x288 with 1 Axes>"
      ]
     },
     "metadata": {
      "needs_background": "light"
     },
     "output_type": "display_data"
    }
   ],
   "source": [
    "import matplotlib.pyplot as plt\n",
    "\n",
    "lists = sorted(fil.items()) # sorted by key, return a list of tuples\n",
    "x, y = zip(*lists) # unpack a list of pairs into two tuples\n",
    "\n",
    "fig, ax = plt.subplots()\n",
    "nBins = round(nFiles/25)\n",
    "ax.hist(y, bins=nBins)\n",
    "plt.xlabel('nChars in Path')\n",
    "plt.ylabel('nFiles')\n",
    "\n",
    "plt.savefig('pathlength.pdf')\n",
    "plt.show()"
   ]
  }
 ],
 "metadata": {
  "kernelspec": {
   "display_name": "Python 3",
   "language": "python",
   "name": "python3"
  },
  "language_info": {
   "codemirror_mode": {
    "name": "ipython",
    "version": 3
   },
   "file_extension": ".py",
   "mimetype": "text/x-python",
   "name": "python",
   "nbconvert_exporter": "python",
   "pygments_lexer": "ipython3",
   "version": "3.7.2"
  }
 },
 "nbformat": 4,
 "nbformat_minor": 2
}
