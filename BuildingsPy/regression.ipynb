{
 "cells": [
  {
   "cell_type": "markdown",
   "metadata": {},
   "source": [
    "`python -m pip install -U https://github.com/lbl-srg/BuildingsPy/archive/master.zip`  \n",
    "`python -m pip install -U -e C:\\Users\\mthorade\\Documents\\Python\\BuildingsPy --no-dependencies`  \n",
    "`autopep8 --in-place --recursive --max-line-length=100 --exclude=\"*/thirdParty/*\" \\ --ignore=\"E402,F401,F403,F405\" buildingspy`\n",
    "\n",
    "Documentation available at  \n",
    "http://simulationresearch.lbl.gov/modelica/buildingspy/development.html#module-buildingspy.development.regressiontest"
   ]
  },
  {
   "cell_type": "code",
   "execution_count": 1,
   "metadata": {
    "scrolled": false
   },
   "outputs": [
    {
     "name": "stdout",
     "output_type": "stream",
     "text": [
      "Started simulation at: 2017-11-21 21:42:34.219526\n",
      "Regression tests are only run for the following package:\n",
      "  IBPSA.BoundaryConditions.WeatherData.Validation\n",
      "Using 2 of 4 processors to run unit tests.\n",
      "Number of models   : 234\n",
      "          blocks   : 101\n",
      "          functions: 69\n",
      "Generated 2 regression tests.\n",
      "\n",
      "Number of models that failed to simulate                     : 1\n",
      "Script that runs unit tests had 0 warnings and 1 errors.\n",
      "\n",
      "See 'simulator.log' for details.\n",
      "Execution time = 57.532 s\n",
      "Finished simulation at: 2017-11-21 21:43:32.132479\n"
     ]
    },
    {
     "name": "stderr",
     "output_type": "stream",
     "text": [
      "*** Error: Simulation failed for 'RunScript(\"Resources/Scripts/Dymola/BoundaryConditions/WeatherData/Validation/DecemberToJanuary.mos\");'.\n"
     ]
    }
   ],
   "source": [
    "import os\n",
    "import sys\n",
    "import datetime\n",
    "import buildingspy\n",
    "import buildingspy.development.regressiontest as r\n",
    "from shutil import which\n",
    "\n",
    "_executable = \"dymola\"\n",
    "# Path to Modelica libraries\n",
    "moLibsDir = \"C:/Users/mthorade/Documents/Dymola\"\n",
    "moLib = \"modelica-ibpsa/IBPSA\"\n",
    "# moLib = \"BSgithub/BuildingSystems\"\n",
    "# moLib = \"../Python/BuildingsPy/buildingspy/tests/MyModelicaLibrary\"\n",
    "moLibPath = os.path.join(moLibsDir, moLib)\n",
    "ncdLibPath = os.path.join(moLibsDir, \"BSgithub/netCDF-DataReader\")\n",
    "copFil = os.path.join(moLibPath, \".copiedFiles.txt\")\n",
    "# skpFil = os.path.join(moLibPath, \"Resources/Scripts/skipUnitTestList.txt\")\n",
    "\n",
    "def addDirToModelicaPath(DirPath):\n",
    "    if os.environ.get('MODELICAPATH') is None:\n",
    "        os.environ['MODELICAPATH'] = ';'.join([DirPath])\n",
    "    elif DirPath in os.environ['MODELICAPATH']:\n",
    "        print(\"Already on the MODELICAPATH, not doing anything\")\n",
    "    else:\n",
    "        os.environ['MODELICAPATH'] = ';'.join([DirPath, os.environ['MODELICAPATH']])\n",
    "\n",
    "addDirToModelicaPath(ncdLibPath)\n",
    "\n",
    "# some info for debugging\n",
    "# print(sys.version_info)\n",
    "# print(which(_executable))\n",
    "# print(moLibPath\n",
    "# print(os.path.isfile(os.path.join(moLibPath,\"package.mo\")))\n",
    "# print(os.getenv('MODELICAPATH'))\n",
    "print(\"Started simulation at: {!s}\".format(datetime.datetime.now()))\n",
    "\n",
    "rt = r.Tester(executable=_executable)\n",
    "rt.setLibraryRoot(moLibPath)\n",
    "# rt.setExcludeTest(excludeFile=skpFil)\n",
    "# rt.setExcludeTest(excludeFile=copFil)\n",
    "rt.include_fmu_tests(False)\n",
    "rt.setSinglePackage(\"IBPSA.BoundaryConditions.WeatherData.Validation\")\n",
    "# rt.batchMode(True)\n",
    "# rt.pedanticModelica(True)\n",
    "\n",
    "rt.run() \n",
    "print(\"Finished simulation at: {!s}\".format(datetime.datetime.now()))"
   ]
  },
  {
   "cell_type": "code",
   "execution_count": null,
   "metadata": {
    "collapsed": true
   },
   "outputs": [],
   "source": []
  }
 ],
 "metadata": {
  "kernelspec": {
   "display_name": "Python 3",
   "language": "python",
   "name": "python3"
  },
  "language_info": {
   "codemirror_mode": {
    "name": "ipython",
    "version": 3
   },
   "file_extension": ".py",
   "mimetype": "text/x-python",
   "name": "python",
   "nbconvert_exporter": "python",
   "pygments_lexer": "ipython3",
   "version": "3.6.3"
  }
 },
 "nbformat": 4,
 "nbformat_minor": 1
}
