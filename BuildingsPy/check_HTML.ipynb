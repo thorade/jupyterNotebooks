{
 "cells": [
  {
   "cell_type": "code",
   "execution_count": 14,
   "metadata": {},
   "outputs": [
    {
     "name": "stdout",
     "output_type": "stream",
     "text": [
      "C:/Users/mthorade/Documents/Dymola\\modelica-ibpsa/IBPSA\n",
      "True\n"
     ]
    }
   ],
   "source": [
    "import os\n",
    "import buildingspy.development.validator as v\n",
    "moLibsDir = \"C:/Users/mthorade/Documents/Dymola\"\n",
    "# moLib = \"HelmholtzMedia/HelmholtzMedia\"\n",
    "# moLib = \"ExtraMath/ExtraMath\"\n",
    "moLib = \"modelica-ibpsa/IBPSA\"\n",
    "# moLib = \"AdvancedNoise/AdvancedNoise 1.0.0\"\n",
    "# moLib = \"BSgithub/BuildingSystems\"\n",
    "# moLib = \"ScalableTestSuite/ScalableTestSuite\"\n",
    "moLibPath = os.path.join(moLibsDir, moLib)\n",
    "print(moLibPath)\n",
    "print(os.path.isfile(os.path.join(moLibPath, \"package.mo\")))\n",
    "\n",
    "val = v.Validator()\n",
    "errStr = val.validateHTMLInPackage(moLibPath)\n",
    "for err in errStr:\n",
    "    print(err)"
   ]
  }
 ],
 "metadata": {
  "kernelspec": {
   "display_name": "Python 3",
   "language": "python",
   "name": "python3"
  },
  "language_info": {
   "codemirror_mode": {
    "name": "ipython",
    "version": 3
   },
   "file_extension": ".py",
   "mimetype": "text/x-python",
   "name": "python",
   "nbconvert_exporter": "python",
   "pygments_lexer": "ipython3",
   "version": "3.6.3"
  }
 },
 "nbformat": 4,
 "nbformat_minor": 1
}
