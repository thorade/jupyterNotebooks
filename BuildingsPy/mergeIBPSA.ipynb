{
 "cells": [
  {
   "cell_type": "code",
   "execution_count": 1,
   "metadata": {
    "collapsed": true
   },
   "outputs": [],
   "source": [
    "# Warning: This will overwrite a lot of files.\n",
    "# Use only if code is under version control!\n",
    "\n",
    "import buildingspy.development.merger as m\n",
    "import os\n",
    "\n",
    "homeDir = os.environ['HOMEPATH']\n",
    "moLibsDir = os.path.join(homeDir, \"Documents\", \"Dymola\")\n",
    "ibpsaDir = os.path.join(moLibsDir, \"modelica-ibpsa\", \"IBPSA\")\n",
    "buildingSystemsDir = os.path.join(moLibsDir, \"BSgithub\", \"BuildingSystems\")\n",
    "\n",
    "mer = m.IBPSA(ibpsaDir, buildingSystemsDir)\n",
    "mer.merge()"
   ]
  },
  {
   "cell_type": "code",
   "execution_count": 3,
   "metadata": {},
   "outputs": [
    {
     "name": "stdout",
     "output_type": "stream",
     "text": [
      "C:\\Users\\mthorade\\Documents\\Dymola\\BSgithub\\BuildingSystems\\package.order\n"
     ]
    }
   ],
   "source": [
    "import buildingspy.development.refactor as r\n",
    "import os\n",
    "\n",
    "homeDir = os.environ['HOMEPATH']\n",
    "moLibsDir = os.path.join(homeDir, \"Documents\", \"Dymola\")\n",
    "buildingSystemsDir = os.path.join(moLibsDir, \"BSgithub\", \"BuildingSystems\")\n",
    "topLevelPackageOrder = os.path.join(buildingSystemsDir, \"package.order\")\n",
    "\n",
    "print(topLevelPackageOrder)\n",
    "if os.path.isfile(topLevelPackageOrder):\n",
    "    r.write_package_order(directory=os.path.normpath(buildingSystemsDir), recursive=True)"
   ]
  },
  {
   "cell_type": "code",
   "execution_count": null,
   "metadata": {
    "collapsed": true
   },
   "outputs": [],
   "source": [
    "import os\n",
    "print(os.path.expanduser(\"~\"))\n",
    "for k in os.environ.keys():\n",
    "    print(\"{}: {}\".format(k,os.environ[k]))\n",
    "# print(os.path.expandvars($USERPROFILE))\n",
    "# print(os.environ.keys())"
   ]
  }
 ],
 "metadata": {
  "kernelspec": {
   "display_name": "Python 3",
   "language": "python",
   "name": "python3"
  },
  "language_info": {
   "codemirror_mode": {
    "name": "ipython",
    "version": 3
   },
   "file_extension": ".py",
   "mimetype": "text/x-python",
   "name": "python",
   "nbconvert_exporter": "python",
   "pygments_lexer": "ipython3",
   "version": "3.6.3"
  }
 },
 "nbformat": 4,
 "nbformat_minor": 1
}
